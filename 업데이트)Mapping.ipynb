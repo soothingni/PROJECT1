{
 "cells": [
  {
   "cell_type": "code",
   "execution_count": null,
   "metadata": {},
   "outputs": [],
   "source": [
    "import pandas as pd\n",
    "import folium\n",
    "import numpy as np\n",
    "from urllib.parse import quote"
   ]
  },
  {
   "cell_type": "code",
   "execution_count": null,
   "metadata": {},
   "outputs": [],
   "source": [
    "df = pd.read_csv('rawdata_final.csv', encoding = 'utf-8')\n",
    "df.drop(columns = 'Unnamed: 0', inplace = True)\n",
    "\n",
    "addr_list = []\n",
    "for k in df['Location']:\n",
    "    addr_list.append(k)\n",
    "\n",
    "addr_list"
   ]
  },
  {
   "cell_type": "code",
   "execution_count": null,
   "metadata": {
    "scrolled": true
   },
   "outputs": [],
   "source": [
    "#주소로 좌표 얻기\n",
    "import json\n",
    "import requests\n",
    "MY_APP_KEY = '3123c75b5738c8b04d18ea0521ee9f02'\n",
    "addr_xyList = []\n",
    "\n",
    "for addr in addr_list:\n",
    "    url = 'https://dapi.kakao.com/v2/local/search/keyword.json?query='+ quote(addr)\n",
    "    headers = {\"Authorization\": 'KakaoAK ' + MY_APP_KEY}\n",
    "    tempDic = {\"addr\": addr, \"x\" : None, \"y\": None}\n",
    "    result = json.loads(str(requests.get(url, headers=headers).text))\n",
    "    address = result['documents']\n",
    "    if len(address) != 0:\n",
    "        x = float(address[0]['x'])\n",
    "        y = float(address[0]['y'])\n",
    "        tempDic['x'] = x\n",
    "        tempDic['y'] = y\n",
    "        addr_xyList.append(tempDic)\n",
    "    else:\n",
    "        url = 'https://dapi.kakao.com/v2/local/search/address.json?query='+ quote(addr)\n",
    "        headers = {\"Authorization\": 'KakaoAK ' + MY_APP_KEY}\n",
    "        tempDic = {\"addr\": addr, \"x\" : None, \"y\": None}\n",
    "        result = json.loads(str(requests.get(url, headers=headers).text))\n",
    "        address = result['documents']\n",
    "        if len(address) == 0:\n",
    "            continue\n",
    "        else:\n",
    "            x = float(address[0]['x'])\n",
    "            y = float(address[0]['y'])\n",
    "            tempDic['x'] = x\n",
    "            tempDic['y'] = y\n",
    "            addr_xyList.append(tempDic)\n",
    "addr_xyList"
   ]
  },
  {
   "cell_type": "code",
   "execution_count": null,
   "metadata": {},
   "outputs": [],
   "source": [
    "addr_df = pd.DataFrame(addr_xyList)\n",
    "freq_df = addr_df.groupby('addr').count().sort_values(by = 'x', ascending = False)\n",
    "freq_df.drop('x', axis = 1, inplace = True)\n",
    "freq_df.columns = ['freq']\n",
    "freq_df.reset_index(inplace = True)\n",
    "\n",
    "total_df = pd.merge(addr_df, freq_df)\n",
    "total_df"
   ]
  },
  {
   "cell_type": "markdown",
   "metadata": {},
   "source": [
    "## 전국 분포"
   ]
  },
  {
   "cell_type": "code",
   "execution_count": null,
   "metadata": {},
   "outputs": [],
   "source": [
    "#circlemarker\n",
    "cheesecake_map = folium.Map(location=[37.514322572335935, 127.06283102249932],zoom_start=8)\n",
    "for i in range(len(total_df)):\n",
    "    x = total_df['x'][i]\n",
    "    y = total_df['y'][i]\n",
    "    folium.CircleMarker([y, x], radius = float(total_df['freq'][i]), color = '#FCAE1E', fill_color = '#FFDB58', fill_opacity=0.03, weight=4, opacity=1, tooltip = total_df['addr'][i]).add_to(cheesecake_map)\n",
    "    \n",
    "cheesecake_map.save('cheesecake_circle.html')"
   ]
  },
  {
   "cell_type": "code",
   "execution_count": null,
   "metadata": {},
   "outputs": [],
   "source": [
    "#circlemarker서울 확대\n",
    "seoul_circle_map = folium.Map(location=[37.514322572335935, 127.06283102249932],zoom_start=12)\n",
    "for i in range(len(total_df)):\n",
    "    x = total_df['x'][i]\n",
    "    y = total_df['y'][i]\n",
    "    folium.CircleMarker([y, x], radius = float(total_df['freq'][i])*3, color = '#FCAE1E', fill_color = '#FFDB58', fill_opacity=0.03, weight=4, opacity=1, tooltip = total_df['addr'][i]).add_to(seoul_circle_map)\n",
    "    \n",
    "seoul_circle_map.save('seoul_circle.html')"
   ]
  },
  {
   "cell_type": "markdown",
   "metadata": {},
   "source": [
    "## 서울시 구별 분포"
   ]
  },
  {
   "cell_type": "code",
   "execution_count": null,
   "metadata": {},
   "outputs": [],
   "source": [
    "geo_path = 'skorea_municipalities_geo_simple.json'\n",
    "geo_str = json.load(open(geo_path, encoding='utf-8'))"
   ]
  },
  {
   "cell_type": "code",
   "execution_count": null,
   "metadata": {
    "scrolled": true
   },
   "outputs": [],
   "source": [
    "guList = []\n",
    "\n",
    "for k in addr_xyList:\n",
    "    \n",
    "    url = 'https://dapi.kakao.com/v2/local/geo/coord2regioncode.json?x=' + str(k['x']) + '&y=' + str(k['y'])\n",
    "    headers = {\"Authorization\": 'KakaoAK ' + MY_APP_KEY}\n",
    "\n",
    "    result = json.loads(str(requests.get(url, headers=headers).text))\n",
    "    address = result['documents'][0]['region_2depth_name']\n",
    "    guList.append(address)\n",
    "\n",
    "#구별 빈도수로 데이터프레임 생성\n",
    "gu_df = pd.DataFrame(columns = ['Gu', 'Frequency'])\n",
    "gu_df['Gu'] = [x['id'] for x in geo_str['features']]\n",
    "\n",
    "for k in range(len(gu_df)):\n",
    "    count = guList.count(gu_df['Gu'][k])\n",
    "    gu_df['Frequency'][k] = count   \n",
    "\n",
    "gu_df['Frequency'] = gu_df['Frequency'].astype(int)\n",
    "gu_df['Gu'] = gu_df['Gu'].astype(str)\n",
    "gu_df.set_index('Gu', inplace = True)"
   ]
  },
  {
   "cell_type": "code",
   "execution_count": null,
   "metadata": {},
   "outputs": [],
   "source": [
    "map = folium.Map(location=[37.5502, 126.982], zoom_start=11, tiles='Stamen Terrain')\n",
    "\n",
    "map.choropleth(geo_data = geo_str,\n",
    "               data = gu_df.Frequency,\n",
    "               columns = [gu_df.index, gu_df.Frequency],\n",
    "               fill_color = 'YlGnBu',\n",
    "               key_on = 'feature.id') #PuRd, YlGnBu\n",
    "\n",
    "map.save('cheesecake_area.html')"
   ]
  }
 ],
 "metadata": {
  "kernelspec": {
   "display_name": "Python 3",
   "language": "python",
   "name": "python3"
  },
  "language_info": {
   "codemirror_mode": {
    "name": "ipython",
    "version": 3
   },
   "file_extension": ".py",
   "mimetype": "text/x-python",
   "name": "python",
   "nbconvert_exporter": "python",
   "pygments_lexer": "ipython3",
   "version": "3.7.4"
  }
 },
 "nbformat": 4,
 "nbformat_minor": 2
}
