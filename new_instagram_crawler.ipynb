{
 "cells": [
  {
   "cell_type": "code",
   "execution_count": null,
   "metadata": {},
   "outputs": [],
   "source": [
    "#이 셀은 실행하지 않으셔도 됩니다\n",
    "#url 나누기\n",
    "arr = list(arr)\n",
    "text1 = arr[:threshold]\n",
    "text2 = arr[threshold: 2*threshold]\n",
    "text3 = arr[2*threshold: 3*threshold]\n",
    "text4 = arr[3*threshold:]\n",
    "texts = [text1, text2, text3, text4]\n",
    "\n",
    "for k in range(len(texts)):\n",
    "    with open('url_part' + str(k+1) + '.txt', 'w') as f:\n",
    "        for url in texts[k]:\n",
    "            f.write(url + '\\n')"
   ]
  },
  {
   "cell_type": "markdown",
   "metadata": {},
   "source": [
    "# 이 이후부터 실행!"
   ]
  },
  {
   "cell_type": "code",
   "execution_count": 7,
   "metadata": {},
   "outputs": [],
   "source": [
    "#함수 정의\n",
    "from selenium import webdriver\n",
    "from urllib.parse import quote\n",
    "from selenium.webdriver.common.keys import Keys\n",
    "import time\n",
    "import pandas as pd \n",
    "import re\n",
    "\n",
    "char = r'#[\\d\\w]+'\n",
    "char2 = re.compile('[^ 0-9a-zA-Zㄱ-ㅣ가-힣!#?]')\n",
    "\n",
    "#URL에서 데이터 가져오기\n",
    "def IdHashTagFromInstagram(browser,url):\n",
    "    browser.get(url)\n",
    "    datetime = browser.find_element_by_class_name('_1o9PC.Nzb55').get_attribute('title')\n",
    "    href=browser.find_elements_by_class_name('C4VMK')\n",
    "    #포스트 내용(글, 태그)\n",
    "    total_hash_text=[]    \n",
    "    for i in range(0, len(href)):\n",
    "        hash_text= href[i].find_element_by_css_selector('span').text\n",
    "        total_hash_text.append(hash_text)\n",
    "    tags = re.findall(char, char2.sub(' ',str(total_hash_text)))\n",
    "    user_name = browser.find_element_by_xpath('//*[@id=\"react-root\"]/section/main/div/div/article/header/div[2]/div[1]/div[1]/h2/a').text\n",
    "    like_count = int(browser.find_element_by_xpath('//*[@id=\"react-root\"]/section/main/div/div/article/div[2]/section[2]/div/div/button/span').text)\n",
    "    location = browser.find_element_by_xpath('//*[@id=\"react-root\"]/section/main/div/div/article/header/div[2]/div[2]/div[2]/a').text\n",
    "    loc_url = browser.find_element_by_xpath('//*[@id=\"react-root\"]/section/main/div/div/article/header/div[2]/div[2]/div[2]/a').get_attribute('href')\n",
    "    return datetime, user_name, like_count, tags, location, url, loc_url"
   ]
  },
  {
   "cell_type": "code",
   "execution_count": 8,
   "metadata": {},
   "outputs": [],
   "source": [
    "k = 1\n",
    "browser = webdriver.Chrome('c:/Temp/chromedriver.exe')\n",
    "insta_df=pd.DataFrame(columns = {'Datetime', 'User_Name', 'Like_Count', 'Tags', 'Location','URL', 'Location_URL'})\n",
    "\n",
    "with open('url_part' + str(k) + '.txt', 'r') as f:\n",
    "    urls = f.readlines()\n",
    "for url in urls:\n",
    "    try:\n",
    "        datetime, user_name, like_count, tags, location, url, loc_url = IdHashTagFromInstagram(browser, url.strip('\\n'))\n",
    "        insta_df = insta_df.append({'Datetime': datetime, 'User_Name':user_name, 'Like_Count':like_count,'Tags': tags, 'Location' : location, 'URL':url,'Location_URL' : loc_url}, ignore_index = True)\n",
    "    except:\n",
    "        continue"
   ]
  },
  {
   "cell_type": "code",
   "execution_count": 9,
   "metadata": {},
   "outputs": [],
   "source": [
    "#csv 저장\n",
    "insta_df.to_csv('testtesttest.csv',mode='w', encoding='euc-kr')"
   ]
  },
  {
   "cell_type": "code",
   "execution_count": null,
   "metadata": {},
   "outputs": [],
   "source": []
  }
 ],
 "metadata": {
  "kernelspec": {
   "display_name": "Python 3",
   "language": "python",
   "name": "python3"
  },
  "language_info": {
   "codemirror_mode": {
    "name": "ipython",
    "version": 3
   },
   "file_extension": ".py",
   "mimetype": "text/x-python",
   "name": "python",
   "nbconvert_exporter": "python",
   "pygments_lexer": "ipython3",
   "version": "3.6.9"
  }
 },
 "nbformat": 4,
 "nbformat_minor": 2
}
