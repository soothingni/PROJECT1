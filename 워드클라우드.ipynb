{
 "cells": [
  {
   "cell_type": "code",
   "execution_count": 2,
   "metadata": {},
   "outputs": [
    {
     "name": "stdout",
     "output_type": "stream",
     "text": [
      "Collecting WordCloud\n",
      "  Downloading https://files.pythonhosted.org/packages/96/36/f712ec19c6e253d27c5cae0d45a4a465ebb5ccf0cb26887a6a3127d13769/wordcloud-1.6.0-cp37-cp37m-win_amd64.whl (153kB)\n",
      "Requirement already satisfied: pillow in c:\\users\\student\\anaconda3\\lib\\site-packages (from WordCloud) (6.2.0)\n",
      "Requirement already satisfied: matplotlib in c:\\users\\student\\anaconda3\\lib\\site-packages (from WordCloud) (3.1.1)\n",
      "Requirement already satisfied: numpy>=1.6.1 in c:\\users\\student\\anaconda3\\lib\\site-packages (from WordCloud) (1.16.5)\n",
      "Requirement already satisfied: cycler>=0.10 in c:\\users\\student\\anaconda3\\lib\\site-packages (from matplotlib->WordCloud) (0.10.0)\n",
      "Requirement already satisfied: kiwisolver>=1.0.1 in c:\\users\\student\\anaconda3\\lib\\site-packages (from matplotlib->WordCloud) (1.1.0)\n",
      "Requirement already satisfied: pyparsing!=2.0.4,!=2.1.2,!=2.1.6,>=2.0.1 in c:\\users\\student\\anaconda3\\lib\\site-packages (from matplotlib->WordCloud) (2.4.2)\n",
      "Requirement already satisfied: python-dateutil>=2.1 in c:\\users\\student\\anaconda3\\lib\\site-packages (from matplotlib->WordCloud) (2.8.0)\n",
      "Requirement already satisfied: six in c:\\users\\student\\anaconda3\\lib\\site-packages (from cycler>=0.10->matplotlib->WordCloud) (1.12.0)\n",
      "Requirement already satisfied: setuptools in c:\\users\\student\\anaconda3\\lib\\site-packages (from kiwisolver>=1.0.1->matplotlib->WordCloud) (41.4.0)\n",
      "Installing collected packages: WordCloud\n",
      "Successfully installed WordCloud-1.6.0\n",
      "Note: you may need to restart the kernel to use updated packages.\n"
     ]
    }
   ],
   "source": [
    "pip install WordCloud"
   ]
  },
  {
   "cell_type": "code",
   "execution_count": 3,
   "metadata": {},
   "outputs": [],
   "source": [
    "import numpy as np\n",
    "from PIL import Image\n",
    "from collections import Counter\n",
    "import random\n",
    "from wordcloud import WordCloud\n",
    "import matplotlib.pyplot as plt\n",
    "%matplotlib inline"
   ]
  },
  {
   "cell_type": "code",
   "execution_count": null,
   "metadata": {},
   "outputs": [],
   "source": [
    "#워드클라우드 모양이 될 외부 png 파일 불러오기\n",
    "mask = np.array(Image.open('/Users/soothingni/Documents/python_data/week3/사건사고/슬라이드1.png')) #png 경로 지정\n",
    "\n",
    "#컬러 커스터마이징\n",
    "color_value = [207, 215, 212, 210]\n",
    "def new_color_func(word, font_size, position,\n",
    "                   orientation, random_state=None, **kwargs):\n",
    "    return \"hsl(%d,100%%,%d%%)\" % (color_value[random.randint(0, 3)],random.randint(40, 80))\n",
    "\n",
    "#워드클라우드 그리기 (실행할 때마다 구성 조금씩 달라짐)\n",
    "path = '/Users/soothingni/Downloads/NanumGothicExtraBold.otf' #한글 폰트 경로 지정하기\n",
    "wordcloud = WordCloud(font_path=path, max_font_size=80, background_color='white', max_words= 100, mask = mask)\n",
    "wc = wordcloud.generate_from_frequencies(c)\n",
    "fig = plt.figure(figsize = (20,20))\n",
    "plt.imshow(wc.recolor(color_func=new_color_func, random_state=3), interpolation='bilinear')\n",
    "plt.axis(\"off\")\n",
    "plt.show()"
   ]
  },
  {
   "cell_type": "code",
   "execution_count": null,
   "metadata": {},
   "outputs": [],
   "source": [
    "#워드클라우드를 외부 png로 저장 (마음에 드는 결과가 나왔을 때)\n",
    "png_name = 'TOPIC_' + str(TOPIC_NUM) + '.png'\n",
    "\n",
    "wc.to_file(png_name)"
   ]
  }
 ],
 "metadata": {
  "kernelspec": {
   "display_name": "Python 3",
   "language": "python",
   "name": "python3"
  },
  "language_info": {
   "codemirror_mode": {
    "name": "ipython",
    "version": 3
   },
   "file_extension": ".py",
   "mimetype": "text/x-python",
   "name": "python",
   "nbconvert_exporter": "python",
   "pygments_lexer": "ipython3",
   "version": "3.7.4"
  }
 },
 "nbformat": 4,
 "nbformat_minor": 2
}
