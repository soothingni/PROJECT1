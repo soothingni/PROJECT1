{
 "cells": [
  {
   "cell_type": "markdown",
   "metadata": {},
   "source": [
    "# 1. 소개\n",
    "* 조명 - 치즈케이크\n",
    "* 프로젝트명 - \n",
    "* 분석목적 - 최근 유행하는 치즈케이크 집의 분포를 알아보자"
   ]
  },
  {
   "cell_type": "markdown",
   "metadata": {},
   "source": [
    "# 2. 조원소개와 역할 (사진포함)\n",
    "* 김다영\n",
    "* 김민기\n",
    "* 서준영\n",
    "* 이수진"
   ]
  },
  {
   "cell_type": "markdown",
   "metadata": {},
   "source": [
    "# 3. 데이터 출처와 전처리전의 데이터 구조(테이블구조로 샘플수와 속성 설명 포함)\n",
    "## (1) 데이터 수집 방법 : 크롤링\n",
    "* 데이터 출처 : 인스타그램\n",
    "인스타그램에서 #치즈케이크 해시태그로 검색하여 최근 게시물 데이터를 확보했다."
   ]
  },
  {
   "cell_type": "markdown",
   "metadata": {},
   "source": [
    "### 사전 환경 설정"
   ]
  },
  {
   "cell_type": "code",
   "execution_count": 13,
   "metadata": {},
   "outputs": [],
   "source": [
    "from selenium import webdriver\n",
    "from urllib.parse import quote\n",
    "from selenium.webdriver.common.keys import Keys\n",
    "import time\n",
    "import pandas as pd \n",
    "import re"
   ]
  },
  {
   "cell_type": "markdown",
   "metadata": {},
   "source": [
    "### RAW 데이터 수집"
   ]
  },
  {
   "cell_type": "markdown",
   "metadata": {},
   "source": [
    "#### 필요한 사전정보 입력"
   ]
  },
  {
   "cell_type": "code",
   "execution_count": 30,
   "metadata": {},
   "outputs": [],
   "source": [
    "handle = '' #인스타그램 아이디\n",
    "pwd = ''  #인스타그램 비밀번호\n",
    "\n",
    "keyword= '치즈케이크'   #검색할 키워드\n",
    "num_of_pages = 800 #몇 번 스크롤 할 건지; e.g. 200 --> 1730개 게시글 긁어짐"
   ]
  },
  {
   "cell_type": "markdown",
   "metadata": {},
   "source": [
    "#### 크롤링 관련 함수 정의\n",
    "* 1단계 : 검색 페이지에서 글 URL 가져오기"
   ]
  },
  {
   "cell_type": "code",
   "execution_count": 7,
   "metadata": {},
   "outputs": [],
   "source": [
    "def InstagramUrlFromKeyword (browser,keyword,num_of_pagedowns):\n",
    "    keyword_url_encode=quote(keyword)\n",
    "    url='https://www.instagram.com/explore/tags/'+keyword+'/?hl=ko'\n",
    "    browser.get(url)\n",
    "    time.sleep(3)\n",
    "    login = browser.find_element_by_xpath('//*[@id=\"react-root\"]/section/nav/div[2]/div/div/div[3]/div/span/a[1]/button')\n",
    "    login.click()\n",
    "    time.sleep(3)\n",
    "    user_id = browser.find_element_by_class_name('_2hvTZ.pexuQ.zyHYP')\n",
    "    pw = browser.find_element_by_xpath('//*[@id=\"react-root\"]/section/main/div/article/div/div[1]/div/form/div[3]/div/label/input')\n",
    "    user_id.send_keys(handle)\n",
    "    pw.send_keys(pwd)\n",
    "    button = browser.find_element_by_xpath('//*[@id=\"react-root\"]/section/main/div/article/div/div[1]/div/form/div[4]/button')\n",
    "    button.click()\n",
    "    time.sleep(3)\n",
    "    arr_href=[]\n",
    "    body=browser.find_element_by_tag_name('body')\n",
    "    for i in range(num_of_pagedowns):\n",
    "        body.send_keys(Keys.PAGE_DOWN)\n",
    "        time.sleep(1)\n",
    "        post=browser.find_elements_by_class_name('v1Nh3')\n",
    "        for j in post:\n",
    "            href_str=j.find_element_by_css_selector('a').get_attribute('href')\n",
    "            arr_href.append(href_str)\n",
    "    return set(arr_href)    \n",
    "\n",
    "char = r'#[\\d\\w]+'\n",
    "char2 = re.compile('[^ 0-9a-zA-Zㄱ-ㅣ가-힣!#?]')"
   ]
  },
  {
   "cell_type": "markdown",
   "metadata": {},
   "source": [
    "* 2단계 : 글 URL에서 필요한 데이터 수집"
   ]
  },
  {
   "cell_type": "code",
   "execution_count": null,
   "metadata": {},
   "outputs": [],
   "source": [
    "def IdHashTagFromInstagram(browser,url):\n",
    "    browser.get(url)\n",
    "    datetime = browser.find_element_by_class_name('_1o9PC.Nzb55').get_attribute('title')\n",
    "    href=browser.find_elements_by_class_name('C4VMK')\n",
    "    #포스트 내용(글, 태그)\n",
    "    total_hash_text=[]    \n",
    "    for i in range(0, len(href)):\n",
    "        hash_text= href[i].find_element_by_css_selector('span').text\n",
    "        total_hash_text.append(hash_text)\n",
    "    tags = re.findall(char, char2.sub(' ',str(total_hash_text)))\n",
    "    user_name = browser.find_element_by_xpath('//*[@id=\"react-root\"]/section/main/div/div/article/header/div[2]/div[1]/div[1]/h2/a').text\n",
    "    like_count = int(browser.find_element_by_xpath('//*[@id=\"react-root\"]/section/main/div/div/article/div[2]/section[2]/div/div/button/span').text)\n",
    "    location = browser.find_element_by_xpath('//*[@id=\"react-root\"]/section/main/div/div/article/header/div[2]/div[2]/div[2]/a').text\n",
    "    loc_url = browser.find_element_by_xpath('//*[@id=\"react-root\"]/section/main/div/div/article/header/div[2]/div[2]/div[2]/a').get_attribute('href')\n",
    "    \n",
    "    return datetime, user_name, like_count, tags, location, loc_url"
   ]
  },
  {
   "cell_type": "markdown",
   "metadata": {},
   "source": [
    "## (2) 전처리 전의 데이터 구조\n",
    "* 샘플수 1633개\n",
    "* 수집 항목 : 작성날짜, 해시태그, 좋아요 수, 위치, 사용자 아이디, 지도url\n",
    "\n",
    "목표 샘플수는 10000개를 목표로 했으나, 인스타그램의 검색량 제한으로 인하여 제한된 데이터로 분석했다.\n",
    "\n",
    "특징: 위치 정보를 입력하지 않는 글은 저장되지 않는다"
   ]
  },
  {
   "cell_type": "markdown",
   "metadata": {},
   "source": [
    "### 크롤링 시행"
   ]
  },
  {
   "cell_type": "code",
   "execution_count": null,
   "metadata": {},
   "outputs": [],
   "source": [
    "insta_df = []\n",
    "df2 = \"\"\n",
    "c = \"\"\n",
    "\n",
    "\n",
    "browser= webdriver.Chrome('c:/Temp/chromedriver.exe')\n",
    "arr=InstagramUrlFromKeyword(browser,keyword,num_of_pages)\n",
    "insta_df=pd.DataFrame(columns = {'Datetime', 'User_Name', 'Like_Count', 'Tags', 'Location', 'Location_URL'})\n",
    "\n",
    "for url in arr:\n",
    "        try:\n",
    "            datetime, user_name, like_count, tags, location, loc_url = IdHashTagFromInstagram(browser,url)\n",
    "            insta_df = insta_df.append({'Datetime': datetime, 'User_Name':user_name, 'Like_Count':like_count,'Tags': tags, 'Location' : location, 'Location_URL' : loc_url}, ignore_index = True)\n",
    "\n",
    "            except:\n",
    "            continue"
   ]
  },
  {
   "cell_type": "markdown",
   "metadata": {},
   "source": [
    "### 지도 URL에서 Latitude, Longitude 수집 크롤링 (((((((((((((((수정중"
   ]
  },
  {
   "cell_type": "code",
   "execution_count": null,
   "metadata": {},
   "outputs": [],
   "source": []
  },
  {
   "cell_type": "markdown",
   "metadata": {},
   "source": [
    "#### 크롤링 완료 후 데이터가 잘 수집되었는지 확인"
   ]
  },
  {
   "cell_type": "code",
   "execution_count": 20,
   "metadata": {
    "scrolled": true
   },
   "outputs": [
    {
     "data": {
      "text/plain": [
       "1634"
      ]
     },
     "execution_count": 20,
     "metadata": {},
     "output_type": "execute_result"
    }
   ],
   "source": [
    "len(insta_df)"
   ]
  },
  {
   "cell_type": "code",
   "execution_count": 21,
   "metadata": {},
   "outputs": [
    {
     "data": {
      "text/html": [
       "<div>\n",
       "<style scoped>\n",
       "    .dataframe tbody tr th:only-of-type {\n",
       "        vertical-align: middle;\n",
       "    }\n",
       "\n",
       "    .dataframe tbody tr th {\n",
       "        vertical-align: top;\n",
       "    }\n",
       "\n",
       "    .dataframe thead th {\n",
       "        text-align: right;\n",
       "    }\n",
       "</style>\n",
       "<table border=\"1\" class=\"dataframe\">\n",
       "  <thead>\n",
       "    <tr style=\"text-align: right;\">\n",
       "      <th></th>\n",
       "      <th>Datetime</th>\n",
       "      <th>Tags</th>\n",
       "      <th>Like_Count</th>\n",
       "      <th>Location</th>\n",
       "      <th>User_Name</th>\n",
       "      <th>URL</th>\n",
       "      <th>Location_URL</th>\n",
       "    </tr>\n",
       "  </thead>\n",
       "  <tbody>\n",
       "    <tr>\n",
       "      <th>0</th>\n",
       "      <td>2019년 12월 22일</td>\n",
       "      <td>['#부산', '#서울', '#친구', '#밥', '#스타벅스', '#케이크', '...</td>\n",
       "      <td>25</td>\n",
       "      <td>Busan, South Korea</td>\n",
       "      <td>_ye._.yomi_</td>\n",
       "      <td>https://www.instagram.com/p/B6W9LyMhTjB/</td>\n",
       "      <td>https://www.instagram.com/explore/locations/28...</td>\n",
       "    </tr>\n",
       "    <tr>\n",
       "      <th>1</th>\n",
       "      <td>2019년 12월 29일</td>\n",
       "      <td>['#카페', '#카페그램', '#카페투어', '#카페추천', '#신상카페', '#...</td>\n",
       "      <td>56</td>\n",
       "      <td>향미공간:香味空間</td>\n",
       "      <td>flavor_space</td>\n",
       "      <td>https://www.instagram.com/p/B6pC7XtJ-s7/</td>\n",
       "      <td>https://www.instagram.com/explore/locations/28...</td>\n",
       "    </tr>\n",
       "    <tr>\n",
       "      <th>2</th>\n",
       "      <td>2019년 12월 22일</td>\n",
       "      <td>['#익스큐즈미', '#익스큐즈미카페', '#카페투어', '#카페', '#카페스타그...</td>\n",
       "      <td>33</td>\n",
       "      <td>마곡지구</td>\n",
       "      <td>borami_ing</td>\n",
       "      <td>https://www.instagram.com/p/B6V3bf5gQyF/</td>\n",
       "      <td>https://www.instagram.com/explore/locations/34...</td>\n",
       "    </tr>\n",
       "    <tr>\n",
       "      <th>3</th>\n",
       "      <td>2019년 12월 19일</td>\n",
       "      <td>['#아인슈페너', '#연유카페라떼', '#치즈케이크', '#우리동네카페', '#까...</td>\n",
       "      <td>13</td>\n",
       "      <td>Seoul, Korea</td>\n",
       "      <td>revi_ewfood</td>\n",
       "      <td>https://www.instagram.com/p/B6PRZImh242/</td>\n",
       "      <td>https://www.instagram.com/explore/locations/21...</td>\n",
       "    </tr>\n",
       "    <tr>\n",
       "      <th>4</th>\n",
       "      <td>2019년 12월 29일</td>\n",
       "      <td>['#디저트', '#치즈케이크', '#바닐라', '#뜨아', '#더벤티']</td>\n",
       "      <td>7</td>\n",
       "      <td>The venti 면목점</td>\n",
       "      <td>kyong_jin_life_record</td>\n",
       "      <td>https://www.instagram.com/p/B6n1h6Fpnrx/</td>\n",
       "      <td>https://www.instagram.com/explore/locations/11...</td>\n",
       "    </tr>\n",
       "    <tr>\n",
       "      <th>...</th>\n",
       "      <td>...</td>\n",
       "      <td>...</td>\n",
       "      <td>...</td>\n",
       "      <td>...</td>\n",
       "      <td>...</td>\n",
       "      <td>...</td>\n",
       "      <td>...</td>\n",
       "    </tr>\n",
       "    <tr>\n",
       "      <th>1629</th>\n",
       "      <td>2019년 12월 22일</td>\n",
       "      <td>['#블랑제리', '#뉴욕치즈케이크', '#서귀포블랑제리', '#건강한빵집', '#...</td>\n",
       "      <td>99</td>\n",
       "      <td>Seogwipo</td>\n",
       "      <td>boulangerie_jeju</td>\n",
       "      <td>https://www.instagram.com/p/B6W0LBYA1vt/</td>\n",
       "      <td>https://www.instagram.com/explore/locations/25...</td>\n",
       "    </tr>\n",
       "    <tr>\n",
       "      <th>1630</th>\n",
       "      <td>2019년 12월 28일</td>\n",
       "      <td>['#카페일드', '#딸기', '#치즈케이크', '#구월동', '#cafe', '#...</td>\n",
       "      <td>44</td>\n",
       "      <td>Cafe Yield</td>\n",
       "      <td>99.9da</td>\n",
       "      <td>https://www.instagram.com/p/B6nqrsIgsXv/</td>\n",
       "      <td>https://www.instagram.com/explore/locations/56...</td>\n",
       "    </tr>\n",
       "    <tr>\n",
       "      <th>1631</th>\n",
       "      <td>2019년 12월 25일</td>\n",
       "      <td>['#목포다쿠아즈', '#다쿠아즈', '#스페셜카페', '#목포카페', '#북항카페...</td>\n",
       "      <td>42</td>\n",
       "      <td>Spatialcafe</td>\n",
       "      <td>spatial__</td>\n",
       "      <td>https://www.instagram.com/p/B6evEHlghDE/</td>\n",
       "      <td>https://www.instagram.com/explore/locations/18...</td>\n",
       "    </tr>\n",
       "    <tr>\n",
       "      <th>1632</th>\n",
       "      <td>2019년 12월 19일</td>\n",
       "      <td>['#치즈케이크', '#쿨치즈', '#일산커피맛있는집', '#일산커피맛집', '#일...</td>\n",
       "      <td>13</td>\n",
       "      <td>Silverlining Coffee Roasters 실버라이닝 커피로스터스</td>\n",
       "      <td>silverlining_coffeeroasters</td>\n",
       "      <td>https://www.instagram.com/p/B6PjFgbl0GG/</td>\n",
       "      <td>https://www.instagram.com/explore/locations/52...</td>\n",
       "    </tr>\n",
       "    <tr>\n",
       "      <th>1633</th>\n",
       "      <td>2019년 12월 27일</td>\n",
       "      <td>[]</td>\n",
       "      <td>22</td>\n",
       "      <td>플렌티</td>\n",
       "      <td>plenty.seoul</td>\n",
       "      <td>https://www.instagram.com/p/B6jf8LRBBPy/</td>\n",
       "      <td>https://www.instagram.com/explore/locations/36...</td>\n",
       "    </tr>\n",
       "  </tbody>\n",
       "</table>\n",
       "<p>1634 rows × 7 columns</p>\n",
       "</div>"
      ],
      "text/plain": [
       "           Datetime                                               Tags  \\\n",
       "0     2019년 12월 22일  ['#부산', '#서울', '#친구', '#밥', '#스타벅스', '#케이크', '...   \n",
       "1     2019년 12월 29일  ['#카페', '#카페그램', '#카페투어', '#카페추천', '#신상카페', '#...   \n",
       "2     2019년 12월 22일  ['#익스큐즈미', '#익스큐즈미카페', '#카페투어', '#카페', '#카페스타그...   \n",
       "3     2019년 12월 19일  ['#아인슈페너', '#연유카페라떼', '#치즈케이크', '#우리동네카페', '#까...   \n",
       "4     2019년 12월 29일          ['#디저트', '#치즈케이크', '#바닐라', '#뜨아', '#더벤티']   \n",
       "...             ...                                                ...   \n",
       "1629  2019년 12월 22일  ['#블랑제리', '#뉴욕치즈케이크', '#서귀포블랑제리', '#건강한빵집', '#...   \n",
       "1630  2019년 12월 28일  ['#카페일드', '#딸기', '#치즈케이크', '#구월동', '#cafe', '#...   \n",
       "1631  2019년 12월 25일  ['#목포다쿠아즈', '#다쿠아즈', '#스페셜카페', '#목포카페', '#북항카페...   \n",
       "1632  2019년 12월 19일  ['#치즈케이크', '#쿨치즈', '#일산커피맛있는집', '#일산커피맛집', '#일...   \n",
       "1633  2019년 12월 27일                                                 []   \n",
       "\n",
       "      Like_Count                                   Location  \\\n",
       "0             25                         Busan, South Korea   \n",
       "1             56                                  향미공간:香味空間   \n",
       "2             33                                       마곡지구   \n",
       "3             13                               Seoul, Korea   \n",
       "4              7                              The venti 면목점   \n",
       "...          ...                                        ...   \n",
       "1629          99                                   Seogwipo   \n",
       "1630          44                                 Cafe Yield   \n",
       "1631          42                                Spatialcafe   \n",
       "1632          13  Silverlining Coffee Roasters 실버라이닝 커피로스터스   \n",
       "1633          22                                        플렌티   \n",
       "\n",
       "                        User_Name                                       URL  \\\n",
       "0                     _ye._.yomi_  https://www.instagram.com/p/B6W9LyMhTjB/   \n",
       "1                    flavor_space  https://www.instagram.com/p/B6pC7XtJ-s7/   \n",
       "2                      borami_ing  https://www.instagram.com/p/B6V3bf5gQyF/   \n",
       "3                     revi_ewfood  https://www.instagram.com/p/B6PRZImh242/   \n",
       "4           kyong_jin_life_record  https://www.instagram.com/p/B6n1h6Fpnrx/   \n",
       "...                           ...                                       ...   \n",
       "1629             boulangerie_jeju  https://www.instagram.com/p/B6W0LBYA1vt/   \n",
       "1630                       99.9da  https://www.instagram.com/p/B6nqrsIgsXv/   \n",
       "1631                    spatial__  https://www.instagram.com/p/B6evEHlghDE/   \n",
       "1632  silverlining_coffeeroasters  https://www.instagram.com/p/B6PjFgbl0GG/   \n",
       "1633                 plenty.seoul  https://www.instagram.com/p/B6jf8LRBBPy/   \n",
       "\n",
       "                                           Location_URL  \n",
       "0     https://www.instagram.com/explore/locations/28...  \n",
       "1     https://www.instagram.com/explore/locations/28...  \n",
       "2     https://www.instagram.com/explore/locations/34...  \n",
       "3     https://www.instagram.com/explore/locations/21...  \n",
       "4     https://www.instagram.com/explore/locations/11...  \n",
       "...                                                 ...  \n",
       "1629  https://www.instagram.com/explore/locations/25...  \n",
       "1630  https://www.instagram.com/explore/locations/56...  \n",
       "1631  https://www.instagram.com/explore/locations/18...  \n",
       "1632  https://www.instagram.com/explore/locations/52...  \n",
       "1633  https://www.instagram.com/explore/locations/36...  \n",
       "\n",
       "[1634 rows x 7 columns]"
      ]
     },
     "execution_count": 21,
     "metadata": {},
     "output_type": "execute_result"
    }
   ],
   "source": [
    "insta_df"
   ]
  },
  {
   "cell_type": "markdown",
   "metadata": {},
   "source": [
    "#### 크롤링 결과 수집된 데이터를 csv로 저장\n",
    "euc-kr로 저장하면 인코딩 문제로 오류나서 utf-8로 저장함"
   ]
  },
  {
   "cell_type": "code",
   "execution_count": 22,
   "metadata": {},
   "outputs": [
    {
     "ename": "UnicodeEncodeError",
     "evalue": "'euc_kr' codec can't encode character '\\xe8' in position 46: illegal multibyte sequence",
     "output_type": "error",
     "traceback": [
      "\u001b[1;31m---------------------------------------------------------------------------\u001b[0m",
      "\u001b[1;31mUnicodeEncodeError\u001b[0m                        Traceback (most recent call last)",
      "\u001b[1;32m<ipython-input-22-e1d40077eaea>\u001b[0m in \u001b[0;36m<module>\u001b[1;34m\u001b[0m\n\u001b[1;32m----> 1\u001b[1;33m \u001b[0minsta_df\u001b[0m\u001b[1;33m.\u001b[0m\u001b[0mto_csv\u001b[0m\u001b[1;33m(\u001b[0m\u001b[1;34m'rawdata.csv'\u001b[0m\u001b[1;33m,\u001b[0m\u001b[0mmode\u001b[0m\u001b[1;33m=\u001b[0m\u001b[1;34m'w'\u001b[0m\u001b[1;33m,\u001b[0m \u001b[0mencoding\u001b[0m\u001b[1;33m=\u001b[0m\u001b[1;34m'euc-kr'\u001b[0m\u001b[1;33m)\u001b[0m\u001b[1;33m\u001b[0m\u001b[1;33m\u001b[0m\u001b[0m\n\u001b[0m",
      "\u001b[1;32m~\\Anaconda3\\envs\\test\\lib\\site-packages\\pandas\\core\\generic.py\u001b[0m in \u001b[0;36mto_csv\u001b[1;34m(self, path_or_buf, sep, na_rep, float_format, columns, header, index, index_label, mode, encoding, compression, quoting, quotechar, line_terminator, chunksize, date_format, doublequote, escapechar, decimal)\u001b[0m\n\u001b[0;32m   3226\u001b[0m             \u001b[0mdecimal\u001b[0m\u001b[1;33m=\u001b[0m\u001b[0mdecimal\u001b[0m\u001b[1;33m,\u001b[0m\u001b[1;33m\u001b[0m\u001b[1;33m\u001b[0m\u001b[0m\n\u001b[0;32m   3227\u001b[0m         )\n\u001b[1;32m-> 3228\u001b[1;33m         \u001b[0mformatter\u001b[0m\u001b[1;33m.\u001b[0m\u001b[0msave\u001b[0m\u001b[1;33m(\u001b[0m\u001b[1;33m)\u001b[0m\u001b[1;33m\u001b[0m\u001b[1;33m\u001b[0m\u001b[0m\n\u001b[0m\u001b[0;32m   3229\u001b[0m \u001b[1;33m\u001b[0m\u001b[0m\n\u001b[0;32m   3230\u001b[0m         \u001b[1;32mif\u001b[0m \u001b[0mpath_or_buf\u001b[0m \u001b[1;32mis\u001b[0m \u001b[1;32mNone\u001b[0m\u001b[1;33m:\u001b[0m\u001b[1;33m\u001b[0m\u001b[1;33m\u001b[0m\u001b[0m\n",
      "\u001b[1;32m~\\Anaconda3\\envs\\test\\lib\\site-packages\\pandas\\io\\formats\\csvs.py\u001b[0m in \u001b[0;36msave\u001b[1;34m(self)\u001b[0m\n\u001b[0;32m    200\u001b[0m                 \u001b[0mself\u001b[0m\u001b[1;33m.\u001b[0m\u001b[0mwriter\u001b[0m \u001b[1;33m=\u001b[0m \u001b[0mUnicodeWriter\u001b[0m\u001b[1;33m(\u001b[0m\u001b[0mf\u001b[0m\u001b[1;33m,\u001b[0m \u001b[1;33m**\u001b[0m\u001b[0mwriter_kwargs\u001b[0m\u001b[1;33m)\u001b[0m\u001b[1;33m\u001b[0m\u001b[1;33m\u001b[0m\u001b[0m\n\u001b[0;32m    201\u001b[0m \u001b[1;33m\u001b[0m\u001b[0m\n\u001b[1;32m--> 202\u001b[1;33m             \u001b[0mself\u001b[0m\u001b[1;33m.\u001b[0m\u001b[0m_save\u001b[0m\u001b[1;33m(\u001b[0m\u001b[1;33m)\u001b[0m\u001b[1;33m\u001b[0m\u001b[1;33m\u001b[0m\u001b[0m\n\u001b[0m\u001b[0;32m    203\u001b[0m \u001b[1;33m\u001b[0m\u001b[0m\n\u001b[0;32m    204\u001b[0m         \u001b[1;32mfinally\u001b[0m\u001b[1;33m:\u001b[0m\u001b[1;33m\u001b[0m\u001b[1;33m\u001b[0m\u001b[0m\n",
      "\u001b[1;32m~\\Anaconda3\\envs\\test\\lib\\site-packages\\pandas\\io\\formats\\csvs.py\u001b[0m in \u001b[0;36m_save\u001b[1;34m(self)\u001b[0m\n\u001b[0;32m    322\u001b[0m                 \u001b[1;32mbreak\u001b[0m\u001b[1;33m\u001b[0m\u001b[1;33m\u001b[0m\u001b[0m\n\u001b[0;32m    323\u001b[0m \u001b[1;33m\u001b[0m\u001b[0m\n\u001b[1;32m--> 324\u001b[1;33m             \u001b[0mself\u001b[0m\u001b[1;33m.\u001b[0m\u001b[0m_save_chunk\u001b[0m\u001b[1;33m(\u001b[0m\u001b[0mstart_i\u001b[0m\u001b[1;33m,\u001b[0m \u001b[0mend_i\u001b[0m\u001b[1;33m)\u001b[0m\u001b[1;33m\u001b[0m\u001b[1;33m\u001b[0m\u001b[0m\n\u001b[0m\u001b[0;32m    325\u001b[0m \u001b[1;33m\u001b[0m\u001b[0m\n\u001b[0;32m    326\u001b[0m     \u001b[1;32mdef\u001b[0m \u001b[0m_save_chunk\u001b[0m\u001b[1;33m(\u001b[0m\u001b[0mself\u001b[0m\u001b[1;33m,\u001b[0m \u001b[0mstart_i\u001b[0m\u001b[1;33m,\u001b[0m \u001b[0mend_i\u001b[0m\u001b[1;33m)\u001b[0m\u001b[1;33m:\u001b[0m\u001b[1;33m\u001b[0m\u001b[1;33m\u001b[0m\u001b[0m\n",
      "\u001b[1;32m~\\Anaconda3\\envs\\test\\lib\\site-packages\\pandas\\io\\formats\\csvs.py\u001b[0m in \u001b[0;36m_save_chunk\u001b[1;34m(self, start_i, end_i)\u001b[0m\n\u001b[0;32m    354\u001b[0m         )\n\u001b[0;32m    355\u001b[0m \u001b[1;33m\u001b[0m\u001b[0m\n\u001b[1;32m--> 356\u001b[1;33m         \u001b[0mlibwriters\u001b[0m\u001b[1;33m.\u001b[0m\u001b[0mwrite_csv_rows\u001b[0m\u001b[1;33m(\u001b[0m\u001b[0mself\u001b[0m\u001b[1;33m.\u001b[0m\u001b[0mdata\u001b[0m\u001b[1;33m,\u001b[0m \u001b[0mix\u001b[0m\u001b[1;33m,\u001b[0m \u001b[0mself\u001b[0m\u001b[1;33m.\u001b[0m\u001b[0mnlevels\u001b[0m\u001b[1;33m,\u001b[0m \u001b[0mself\u001b[0m\u001b[1;33m.\u001b[0m\u001b[0mcols\u001b[0m\u001b[1;33m,\u001b[0m \u001b[0mself\u001b[0m\u001b[1;33m.\u001b[0m\u001b[0mwriter\u001b[0m\u001b[1;33m)\u001b[0m\u001b[1;33m\u001b[0m\u001b[1;33m\u001b[0m\u001b[0m\n\u001b[0m",
      "\u001b[1;32mpandas/_libs/writers.pyx\u001b[0m in \u001b[0;36mpandas._libs.writers.write_csv_rows\u001b[1;34m()\u001b[0m\n",
      "\u001b[1;31mUnicodeEncodeError\u001b[0m: 'euc_kr' codec can't encode character '\\xe8' in position 46: illegal multibyte sequence"
     ]
    }
   ],
   "source": [
    "insta_df.to_csv('rawdata.csv',mode='w', encoding='euc-kr')"
   ]
  },
  {
   "cell_type": "code",
   "execution_count": 23,
   "metadata": {},
   "outputs": [],
   "source": [
    "insta_df.to_csv('rawdata.csv',mode='w', encoding='UTF-8')"
   ]
  },
  {
   "cell_type": "markdown",
   "metadata": {},
   "source": [
    "# 4. 분석방법, 흐름소개\n",
    "* 분석방법 : 크롤링, 빈도분석, 지도 API를 이용하여 위치정보 텍스트를 위도, 경도로 변환\n",
    "* 흐름 소개 (동영상, 각종코드 넣기)"
   ]
  },
  {
   "cell_type": "markdown",
   "metadata": {},
   "source": [
    "## 데이터 탐색"
   ]
  },
  {
   "cell_type": "code",
   "execution_count": 9,
   "metadata": {
    "scrolled": true
   },
   "outputs": [
    {
     "data": {
      "text/html": [
       "<div>\n",
       "<style scoped>\n",
       "    .dataframe tbody tr th:only-of-type {\n",
       "        vertical-align: middle;\n",
       "    }\n",
       "\n",
       "    .dataframe tbody tr th {\n",
       "        vertical-align: top;\n",
       "    }\n",
       "\n",
       "    .dataframe thead th {\n",
       "        text-align: right;\n",
       "    }\n",
       "</style>\n",
       "<table border=\"1\" class=\"dataframe\">\n",
       "  <thead>\n",
       "    <tr style=\"text-align: right;\">\n",
       "      <th></th>\n",
       "      <th>Location</th>\n",
       "      <th>Datetime</th>\n",
       "      <th>Tags</th>\n",
       "      <th>Like_Count</th>\n",
       "      <th>User_Name</th>\n",
       "    </tr>\n",
       "  </thead>\n",
       "  <tbody>\n",
       "    <tr>\n",
       "      <th>0</th>\n",
       "      <td>향리단커피</td>\n",
       "      <td>2019년 12월 22일</td>\n",
       "      <td>[#향리단스콘, #향남맛집, #스콘, #스콘맛집, #화성카페, #향남카페, #수원카...</td>\n",
       "      <td>48</td>\n",
       "      <td>hrdcoffee</td>\n",
       "    </tr>\n",
       "    <tr>\n",
       "      <th>1</th>\n",
       "      <td>Changwon</td>\n",
       "      <td>2019년 12월 30일</td>\n",
       "      <td>[]</td>\n",
       "      <td>11</td>\n",
       "      <td>staymood_candle</td>\n",
       "    </tr>\n",
       "    <tr>\n",
       "      <th>2</th>\n",
       "      <td>The Cheesecake Factory</td>\n",
       "      <td>2019년 12월 17일</td>\n",
       "      <td>[#대기20분, #줄줄이소세지, #하와이, #하와이신혼여행, #하와이맛집, #치즈케...</td>\n",
       "      <td>35</td>\n",
       "      <td>_dbddbd_</td>\n",
       "    </tr>\n",
       "    <tr>\n",
       "      <th>3</th>\n",
       "      <td>인사이드커피-Insidecoffee</td>\n",
       "      <td>2019년 12월 17일</td>\n",
       "      <td>[#코흘리게, #못생긴, #나의중학생시절, #기억하는사람, #16년지기, #고니, ...</td>\n",
       "      <td>38</td>\n",
       "      <td>jojosuhyun</td>\n",
       "    </tr>\n",
       "    <tr>\n",
       "      <th>4</th>\n",
       "      <td>Seoul, South Korea</td>\n",
       "      <td>2019년 12월 30일</td>\n",
       "      <td>[#월요일, #모닝커피, #커피빈, #치즈케이크, #셋이아닌둘이서, #커피스타그램,...</td>\n",
       "      <td>21</td>\n",
       "      <td>eunyoung3280</td>\n",
       "    </tr>\n",
       "    <tr>\n",
       "      <th>...</th>\n",
       "      <td>...</td>\n",
       "      <td>...</td>\n",
       "      <td>...</td>\n",
       "      <td>...</td>\n",
       "      <td>...</td>\n",
       "    </tr>\n",
       "    <tr>\n",
       "      <th>1098</th>\n",
       "      <td>은계지구</td>\n",
       "      <td>2019년 12월 27일</td>\n",
       "      <td>[#은계지구, #초밥, #허니콤보, #핫도그, #신전, #오돌뼈, #치즈케이크, #...</td>\n",
       "      <td>41</td>\n",
       "      <td>yang_hj2</td>\n",
       "    </tr>\n",
       "    <tr>\n",
       "      <th>1099</th>\n",
       "      <td>얼스어스</td>\n",
       "      <td>2019년 12월 18일</td>\n",
       "      <td>[#얼스어스]</td>\n",
       "      <td>21</td>\n",
       "      <td>juny_hoy</td>\n",
       "    </tr>\n",
       "    <tr>\n",
       "      <th>1100</th>\n",
       "      <td>스윗레시피 Sweet Recipe</td>\n",
       "      <td>2019년 12월 14일</td>\n",
       "      <td>[#스윗레시피]</td>\n",
       "      <td>148</td>\n",
       "      <td>sweet_0310</td>\n",
       "    </tr>\n",
       "    <tr>\n",
       "      <th>1101</th>\n",
       "      <td>하우다 과자점</td>\n",
       "      <td>2019년 12월 25일</td>\n",
       "      <td>[]</td>\n",
       "      <td>25</td>\n",
       "      <td>hauda_jeju</td>\n",
       "    </tr>\n",
       "    <tr>\n",
       "      <th>1102</th>\n",
       "      <td>동대문디자인플라자 DDP</td>\n",
       "      <td>2019년 12월 27일</td>\n",
       "      <td>[]</td>\n",
       "      <td>14</td>\n",
       "      <td>cafe_apotik</td>\n",
       "    </tr>\n",
       "  </tbody>\n",
       "</table>\n",
       "<p>1103 rows × 5 columns</p>\n",
       "</div>"
      ],
      "text/plain": [
       "                    Location       Datetime  \\\n",
       "0                      향리단커피  2019년 12월 22일   \n",
       "1                   Changwon  2019년 12월 30일   \n",
       "2     The Cheesecake Factory  2019년 12월 17일   \n",
       "3        인사이드커피-Insidecoffee  2019년 12월 17일   \n",
       "4         Seoul, South Korea  2019년 12월 30일   \n",
       "...                      ...            ...   \n",
       "1098                    은계지구  2019년 12월 27일   \n",
       "1099                    얼스어스  2019년 12월 18일   \n",
       "1100      스윗레시피 Sweet Recipe  2019년 12월 14일   \n",
       "1101                 하우다 과자점  2019년 12월 25일   \n",
       "1102           동대문디자인플라자 DDP  2019년 12월 27일   \n",
       "\n",
       "                                                   Tags Like_Count  \\\n",
       "0     [#향리단스콘, #향남맛집, #스콘, #스콘맛집, #화성카페, #향남카페, #수원카...         48   \n",
       "1                                                    []         11   \n",
       "2     [#대기20분, #줄줄이소세지, #하와이, #하와이신혼여행, #하와이맛집, #치즈케...         35   \n",
       "3     [#코흘리게, #못생긴, #나의중학생시절, #기억하는사람, #16년지기, #고니, ...         38   \n",
       "4     [#월요일, #모닝커피, #커피빈, #치즈케이크, #셋이아닌둘이서, #커피스타그램,...         21   \n",
       "...                                                 ...        ...   \n",
       "1098  [#은계지구, #초밥, #허니콤보, #핫도그, #신전, #오돌뼈, #치즈케이크, #...         41   \n",
       "1099                                            [#얼스어스]         21   \n",
       "1100                                           [#스윗레시피]        148   \n",
       "1101                                                 []         25   \n",
       "1102                                                 []         14   \n",
       "\n",
       "            User_Name  \n",
       "0           hrdcoffee  \n",
       "1     staymood_candle  \n",
       "2            _dbddbd_  \n",
       "3          jojosuhyun  \n",
       "4        eunyoung3280  \n",
       "...               ...  \n",
       "1098         yang_hj2  \n",
       "1099         juny_hoy  \n",
       "1100       sweet_0310  \n",
       "1101       hauda_jeju  \n",
       "1102      cafe_apotik  \n",
       "\n",
       "[1103 rows x 5 columns]"
      ]
     },
     "execution_count": 9,
     "metadata": {},
     "output_type": "execute_result"
    }
   ],
   "source": [
    "insta_df"
   ]
  },
  {
   "cell_type": "markdown",
   "metadata": {},
   "source": [
    "### 3-1. 시연을 위해 크롤링으로 얻은 raw data 로드"
   ]
  },
  {
   "cell_type": "code",
   "execution_count": 6,
   "metadata": {},
   "outputs": [
    {
     "data": {
      "text/html": [
       "<div>\n",
       "<style scoped>\n",
       "    .dataframe tbody tr th:only-of-type {\n",
       "        vertical-align: middle;\n",
       "    }\n",
       "\n",
       "    .dataframe tbody tr th {\n",
       "        vertical-align: top;\n",
       "    }\n",
       "\n",
       "    .dataframe thead th {\n",
       "        text-align: right;\n",
       "    }\n",
       "</style>\n",
       "<table border=\"1\" class=\"dataframe\">\n",
       "  <thead>\n",
       "    <tr style=\"text-align: right;\">\n",
       "      <th></th>\n",
       "      <th>Datetime</th>\n",
       "      <th>Tags</th>\n",
       "      <th>Like_Count</th>\n",
       "      <th>Location</th>\n",
       "      <th>User_Name</th>\n",
       "      <th>URL</th>\n",
       "    </tr>\n",
       "  </thead>\n",
       "  <tbody>\n",
       "    <tr>\n",
       "      <th>0</th>\n",
       "      <td>2019년 12월 22일</td>\n",
       "      <td>['#부산', '#서울', '#친구', '#밥', '#스타벅스', '#케이크', '...</td>\n",
       "      <td>25</td>\n",
       "      <td>Busan, South Korea</td>\n",
       "      <td>_ye._.yomi_</td>\n",
       "      <td>https://www.instagram.com/p/B6W9LyMhTjB/</td>\n",
       "    </tr>\n",
       "    <tr>\n",
       "      <th>1</th>\n",
       "      <td>2019년 12월 29일</td>\n",
       "      <td>['#카페', '#카페그램', '#카페투어', '#카페추천', '#신상카페', '#...</td>\n",
       "      <td>56</td>\n",
       "      <td>향미공간:香味空間</td>\n",
       "      <td>flavor_space</td>\n",
       "      <td>https://www.instagram.com/p/B6pC7XtJ-s7/</td>\n",
       "    </tr>\n",
       "    <tr>\n",
       "      <th>2</th>\n",
       "      <td>2019년 12월 22일</td>\n",
       "      <td>['#익스큐즈미', '#익스큐즈미카페', '#카페투어', '#카페', '#카페스타그...</td>\n",
       "      <td>33</td>\n",
       "      <td>마곡지구</td>\n",
       "      <td>borami_ing</td>\n",
       "      <td>https://www.instagram.com/p/B6V3bf5gQyF/</td>\n",
       "    </tr>\n",
       "    <tr>\n",
       "      <th>3</th>\n",
       "      <td>2019년 12월 19일</td>\n",
       "      <td>['#아인슈페너', '#연유카페라떼', '#치즈케이크', '#우리동네카페', '#까...</td>\n",
       "      <td>13</td>\n",
       "      <td>Seoul, Korea</td>\n",
       "      <td>revi_ewfood</td>\n",
       "      <td>https://www.instagram.com/p/B6PRZImh242/</td>\n",
       "    </tr>\n",
       "    <tr>\n",
       "      <th>4</th>\n",
       "      <td>2019년 12월 29일</td>\n",
       "      <td>['#디저트', '#치즈케이크', '#바닐라', '#뜨아', '#더벤티']</td>\n",
       "      <td>7</td>\n",
       "      <td>The venti 면목점</td>\n",
       "      <td>kyong_jin_life_record</td>\n",
       "      <td>https://www.instagram.com/p/B6n1h6Fpnrx/</td>\n",
       "    </tr>\n",
       "    <tr>\n",
       "      <th>...</th>\n",
       "      <td>...</td>\n",
       "      <td>...</td>\n",
       "      <td>...</td>\n",
       "      <td>...</td>\n",
       "      <td>...</td>\n",
       "      <td>...</td>\n",
       "    </tr>\n",
       "    <tr>\n",
       "      <th>1629</th>\n",
       "      <td>2019년 12월 22일</td>\n",
       "      <td>['#블랑제리', '#뉴욕치즈케이크', '#서귀포블랑제리', '#건강한빵집', '#...</td>\n",
       "      <td>99</td>\n",
       "      <td>Seogwipo</td>\n",
       "      <td>boulangerie_jeju</td>\n",
       "      <td>https://www.instagram.com/p/B6W0LBYA1vt/</td>\n",
       "    </tr>\n",
       "    <tr>\n",
       "      <th>1630</th>\n",
       "      <td>2019년 12월 28일</td>\n",
       "      <td>['#카페일드', '#딸기', '#치즈케이크', '#구월동', '#cafe', '#...</td>\n",
       "      <td>44</td>\n",
       "      <td>Cafe Yield</td>\n",
       "      <td>99.9da</td>\n",
       "      <td>https://www.instagram.com/p/B6nqrsIgsXv/</td>\n",
       "    </tr>\n",
       "    <tr>\n",
       "      <th>1631</th>\n",
       "      <td>2019년 12월 25일</td>\n",
       "      <td>['#목포다쿠아즈', '#다쿠아즈', '#스페셜카페', '#목포카페', '#북항카페...</td>\n",
       "      <td>42</td>\n",
       "      <td>Spatialcafe</td>\n",
       "      <td>spatial__</td>\n",
       "      <td>https://www.instagram.com/p/B6evEHlghDE/</td>\n",
       "    </tr>\n",
       "    <tr>\n",
       "      <th>1632</th>\n",
       "      <td>2019년 12월 19일</td>\n",
       "      <td>['#치즈케이크', '#쿨치즈', '#일산커피맛있는집', '#일산커피맛집', '#일...</td>\n",
       "      <td>13</td>\n",
       "      <td>Silverlining Coffee Roasters 실버라이닝 커피로스터스</td>\n",
       "      <td>silverlining_coffeeroasters</td>\n",
       "      <td>https://www.instagram.com/p/B6PjFgbl0GG/</td>\n",
       "    </tr>\n",
       "    <tr>\n",
       "      <th>1633</th>\n",
       "      <td>2019년 12월 27일</td>\n",
       "      <td>[]</td>\n",
       "      <td>22</td>\n",
       "      <td>플렌티</td>\n",
       "      <td>plenty.seoul</td>\n",
       "      <td>https://www.instagram.com/p/B6jf8LRBBPy/</td>\n",
       "    </tr>\n",
       "  </tbody>\n",
       "</table>\n",
       "<p>1634 rows × 6 columns</p>\n",
       "</div>"
      ],
      "text/plain": [
       "           Datetime                                               Tags  \\\n",
       "0     2019년 12월 22일  ['#부산', '#서울', '#친구', '#밥', '#스타벅스', '#케이크', '...   \n",
       "1     2019년 12월 29일  ['#카페', '#카페그램', '#카페투어', '#카페추천', '#신상카페', '#...   \n",
       "2     2019년 12월 22일  ['#익스큐즈미', '#익스큐즈미카페', '#카페투어', '#카페', '#카페스타그...   \n",
       "3     2019년 12월 19일  ['#아인슈페너', '#연유카페라떼', '#치즈케이크', '#우리동네카페', '#까...   \n",
       "4     2019년 12월 29일          ['#디저트', '#치즈케이크', '#바닐라', '#뜨아', '#더벤티']   \n",
       "...             ...                                                ...   \n",
       "1629  2019년 12월 22일  ['#블랑제리', '#뉴욕치즈케이크', '#서귀포블랑제리', '#건강한빵집', '#...   \n",
       "1630  2019년 12월 28일  ['#카페일드', '#딸기', '#치즈케이크', '#구월동', '#cafe', '#...   \n",
       "1631  2019년 12월 25일  ['#목포다쿠아즈', '#다쿠아즈', '#스페셜카페', '#목포카페', '#북항카페...   \n",
       "1632  2019년 12월 19일  ['#치즈케이크', '#쿨치즈', '#일산커피맛있는집', '#일산커피맛집', '#일...   \n",
       "1633  2019년 12월 27일                                                 []   \n",
       "\n",
       "      Like_Count                                   Location  \\\n",
       "0             25                         Busan, South Korea   \n",
       "1             56                                  향미공간:香味空間   \n",
       "2             33                                       마곡지구   \n",
       "3             13                               Seoul, Korea   \n",
       "4              7                              The venti 면목점   \n",
       "...          ...                                        ...   \n",
       "1629          99                                   Seogwipo   \n",
       "1630          44                                 Cafe Yield   \n",
       "1631          42                                Spatialcafe   \n",
       "1632          13  Silverlining Coffee Roasters 실버라이닝 커피로스터스   \n",
       "1633          22                                        플렌티   \n",
       "\n",
       "                        User_Name                                       URL  \n",
       "0                     _ye._.yomi_  https://www.instagram.com/p/B6W9LyMhTjB/  \n",
       "1                    flavor_space  https://www.instagram.com/p/B6pC7XtJ-s7/  \n",
       "2                      borami_ing  https://www.instagram.com/p/B6V3bf5gQyF/  \n",
       "3                     revi_ewfood  https://www.instagram.com/p/B6PRZImh242/  \n",
       "4           kyong_jin_life_record  https://www.instagram.com/p/B6n1h6Fpnrx/  \n",
       "...                           ...                                       ...  \n",
       "1629             boulangerie_jeju  https://www.instagram.com/p/B6W0LBYA1vt/  \n",
       "1630                       99.9da  https://www.instagram.com/p/B6nqrsIgsXv/  \n",
       "1631                    spatial__  https://www.instagram.com/p/B6evEHlghDE/  \n",
       "1632  silverlining_coffeeroasters  https://www.instagram.com/p/B6PjFgbl0GG/  \n",
       "1633                 plenty.seoul  https://www.instagram.com/p/B6jf8LRBBPy/  \n",
       "\n",
       "[1634 rows x 6 columns]"
      ]
     },
     "execution_count": 6,
     "metadata": {},
     "output_type": "execute_result"
    }
   ],
   "source": [
    "insta_df = pd.read_csv('rawdata.csv', index_col=0, encoding='UTF-8')\n",
    "insta_df"
   ]
  },
  {
   "cell_type": "markdown",
   "metadata": {},
   "source": [
    "### 빈도분석"
   ]
  },
  {
   "cell_type": "code",
   "execution_count": 58,
   "metadata": {},
   "outputs": [
    {
     "data": {
      "text/plain": [
       "Location      object\n",
       "Datetime      object\n",
       "Tags          object\n",
       "Like_Count     int64\n",
       "User_Name     object\n",
       "url           object\n",
       "dtype: object"
      ]
     },
     "execution_count": 58,
     "metadata": {},
     "output_type": "execute_result"
    }
   ],
   "source": [
    "insta_df.dtypes"
   ]
  },
  {
   "cell_type": "code",
   "execution_count": 68,
   "metadata": {},
   "outputs": [
    {
     "data": {
      "text/plain": [
       "[('#치즈케이크', 871),\n",
       " ('#카페', 172),\n",
       " ('#일상', 137),\n",
       " ('#디저트', 120),\n",
       " ('#카페투어', 107),\n",
       " ('#크리스마스', 105),\n",
       " ('#cafe', 94),\n",
       " ('#카페스타그램', 84),\n",
       " ('#cheesecake', 84),\n",
       " ('#케이크', 83),\n",
       " ('#디저트카페', 80),\n",
       " ('#커피', 77),\n",
       " ('#coffee', 77),\n",
       " ('#마카롱', 76),\n",
       " ('#먹스타그램', 75),\n",
       " ('#데일리', 75),\n",
       " ('#좋아요', 63),\n",
       " ('#daily', 54),\n",
       " ('#딸기케이크', 51),\n",
       " ('#dessert', 49),\n",
       " ('#맛집', 49),\n",
       " ('#맛스타그램', 49),\n",
       " ('#아메리카노', 48),\n",
       " ('#스콘', 46),\n",
       " ('#딸기', 46),\n",
       " ('#맞팔', 46),\n",
       " ('#디저트맛집', 46),\n",
       " ('#부산카페', 44),\n",
       " ('#크리스마스케이크', 43),\n",
       " ('#소통', 42),\n",
       " ('#티라미수', 40),\n",
       " ('#마카롱맛집', 39),\n",
       " ('#cake', 39),\n",
       " ('#예쁜카페', 37),\n",
       " ('#브라우니', 34),\n",
       " ('#메리크리스마스', 33),\n",
       " ('#먹방', 33),\n",
       " ('#팔로우', 31),\n",
       " ('#초코케이크', 31),\n",
       " ('#마들렌', 30),\n",
       " ('#제리치즈케이크', 29),\n",
       " ('#선물', 29),\n",
       " ('#macarons', 29),\n",
       " ('#좋반', 29),\n",
       " ('#밀크티', 28),\n",
       " ('#커피맛집', 28),\n",
       " ('#크리스마스이브', 28),\n",
       " ('#세종시마카롱', 28),\n",
       " ('#새롬동카페', 28),\n",
       " ('#신상카페', 27)]"
      ]
     },
     "execution_count": 68,
     "metadata": {},
     "output_type": "execute_result"
    }
   ],
   "source": [
    "from collections import Counter\n",
    "\n",
    "insta_tags = []\n",
    "for tags in insta_df['Tags']:\n",
    "    tags = tags.strip('[').strip(']').replace(\"'\", \"\")\n",
    "    tag_list = tags.split(', ')\n",
    "    while '' in tag_list:\n",
    "        tag_list.remove('')\n",
    "    insta_tags.extend(tag_list)\n",
    "    \n",
    "c = Counter(insta_tags)\n",
    "    \n",
    "c.most_common(50)"
   ]
  },
  {
   "cell_type": "code",
   "execution_count": 69,
   "metadata": {},
   "outputs": [
    {
     "data": {
      "text/plain": [
       "'#향리단스콘'"
      ]
     },
     "execution_count": 69,
     "metadata": {},
     "output_type": "execute_result"
    }
   ],
   "source": [
    "insta_tags[0]"
   ]
  },
  {
   "cell_type": "markdown",
   "metadata": {},
   "source": [
    "### (2) 지도 API를 이용하여 위치정보 텍스트를 위도, 경도로 변환"
   ]
  },
  {
   "cell_type": "code",
   "execution_count": null,
   "metadata": {},
   "outputs": [],
   "source": []
  }
 ],
 "metadata": {
  "kernelspec": {
   "display_name": "Python 3",
   "language": "python",
   "name": "python3"
  },
  "language_info": {
   "codemirror_mode": {
    "name": "ipython",
    "version": 3
   },
   "file_extension": ".py",
   "mimetype": "text/x-python",
   "name": "python",
   "nbconvert_exporter": "python",
   "pygments_lexer": "ipython3",
   "version": "3.6.9"
  }
 },
 "nbformat": 4,
 "nbformat_minor": 2
}
