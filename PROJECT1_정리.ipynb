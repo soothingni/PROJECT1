{
 "cells": [
  {
   "cell_type": "markdown",
   "metadata": {},
   "source": [
    "# 제목\n",
    "최근 유행하는 치즈케이크 집의 분포를 알아보자"
   ]
  },
  {
   "cell_type": "markdown",
   "metadata": {},
   "source": [
    "## 1. 사전 환경 설정"
   ]
  },
  {
   "cell_type": "code",
   "execution_count": 5,
   "metadata": {},
   "outputs": [],
   "source": [
    "from selenium import webdriver\n",
    "from urllib.parse import quote\n",
    "from selenium.webdriver.common.keys import Keys\n",
    "import time\n",
    "import pandas as pd \n",
    "import re"
   ]
  },
  {
   "cell_type": "markdown",
   "metadata": {},
   "source": [
    "## 2. RAW 데이터 수집"
   ]
  },
  {
   "cell_type": "markdown",
   "metadata": {},
   "source": [
    "### (1) 필요한 사전정보 입력"
   ]
  },
  {
   "cell_type": "code",
   "execution_count": 5,
   "metadata": {},
   "outputs": [],
   "source": [
    "handle = '' #인스타그램 아이디\n",
    "pwd = ''  #인스타그램 비밀번호\n",
    "\n",
    "keyword= '치즈케이크'   #검색할 키워드\n",
    "num_of_pages = 800 #몇 번 스크롤 할 건지; e.g. 200 --> 1730개 게시글 긁어짐"
   ]
  },
  {
   "cell_type": "markdown",
   "metadata": {},
   "source": [
    "### (2) 크롤링 관련 함수 정의\n",
    "* 1단계 : 검색 페이지에서 글 URL 가져오기"
   ]
  },
  {
   "cell_type": "code",
   "execution_count": 7,
   "metadata": {},
   "outputs": [],
   "source": [
    "def InstagramUrlFromKeyword (browser,keyword,num_of_pagedowns):\n",
    "    keyword_url_encode=quote(keyword)\n",
    "    url='https://www.instagram.com/explore/tags/'+keyword+'/?hl=ko'\n",
    "    browser.get(url)\n",
    "    time.sleep(3)\n",
    "    login = browser.find_element_by_xpath('//*[@id=\"react-root\"]/section/nav/div[2]/div/div/div[3]/div/span/a[1]/button')\n",
    "    login.click()\n",
    "    time.sleep(3)\n",
    "    user_id = browser.find_element_by_class_name('_2hvTZ.pexuQ.zyHYP')\n",
    "    pw = browser.find_element_by_xpath('//*[@id=\"react-root\"]/section/main/div/article/div/div[1]/div/form/div[3]/div/label/input')\n",
    "    user_id.send_keys(handle)\n",
    "    pw.send_keys(pwd)\n",
    "    button = browser.find_element_by_xpath('//*[@id=\"react-root\"]/section/main/div/article/div/div[1]/div/form/div[4]/button')\n",
    "    button.click()\n",
    "    time.sleep(3)\n",
    "    arr_href=[]\n",
    "    body=browser.find_element_by_tag_name('body')\n",
    "    for i in range(num_of_pagedowns):\n",
    "        body.send_keys(Keys.PAGE_DOWN)\n",
    "        time.sleep(1)\n",
    "        post=browser.find_elements_by_class_name('v1Nh3')\n",
    "        for j in post:\n",
    "            href_str=j.find_element_by_css_selector('a').get_attribute('href')\n",
    "            arr_href.append(href_str)\n",
    "    return set(arr_href)    \n",
    "\n",
    "char = r'#[\\d\\w]+'\n",
    "char2 = re.compile('[^ 0-9a-zA-Zㄱ-ㅣ가-힣!#?]')"
   ]
  },
  {
   "cell_type": "markdown",
   "metadata": {},
   "source": [
    "* 2단계 : 글 URL에서 필요한 데이터 수집"
   ]
  },
  {
   "cell_type": "code",
   "execution_count": null,
   "metadata": {},
   "outputs": [],
   "source": [
    "def IdHashTagFromInstagram(browser,url):\n",
    "    browser.get(url)\n",
    "    datetime = browser.find_element_by_class_name('_1o9PC.Nzb55').get_attribute('title')\n",
    "    href=browser.find_elements_by_class_name('C4VMK')\n",
    "    #포스트 내용(글, 태그)\n",
    "    total_hash_text=[]    \n",
    "    for i in range(0, len(href)):\n",
    "        hash_text= href[i].find_element_by_css_selector('span').text\n",
    "        total_hash_text.append(hash_text)\n",
    "    tags = re.findall(char, char2.sub(' ',str(total_hash_text)))\n",
    "    user_name = browser.find_element_by_xpath('//*[@id=\"react-root\"]/section/main/div/div/article/header/div[2]/div[1]/div[1]/h2/a').text\n",
    "    like_count = int(browser.find_element_by_xpath('//*[@id=\"react-root\"]/section/main/div/div/article/div[2]/section[2]/div/div/button/span').text)\n",
    "    location = browser.find_element_by_xpath('//*[@id=\"react-root\"]/section/main/div/div/article/header/div[2]/div[2]/div[2]/a').text\n",
    "    \n",
    "    return datetime, user_name, like_count, tags, location"
   ]
  },
  {
   "cell_type": "markdown",
   "metadata": {},
   "source": [
    "### (3) 크롤링 시행"
   ]
  },
  {
   "cell_type": "code",
   "execution_count": 8,
   "metadata": {},
   "outputs": [],
   "source": [
    "insta_df = []\n",
    "df2 = \"\"\n",
    "c = \"\"\n",
    "\n",
    "browser= webdriver.Chrome('c:/Temp/chromedriver.exe')\n",
    "arr=InstagramUrlFromKeyword(browser,keyword,num_of_pages)\n",
    "insta_df=pd.DataFrame(columns = {'Datetime', 'User_Name', 'Like_Count', 'Tags', 'Location'})\n",
    "\n",
    "for url in arr:\n",
    "        try:\n",
    "            datetime, user_name, like_count, tags, location = IdHashTagFromInstagram(browser,url)\n",
    "            insta_df = insta_df.append({'Datetime': datetime, 'User_Name':user_name, 'Like_Count':like_count,'Tags': tags, 'Location' : location}, ignore_index = True)\n",
    "        except:\n",
    "            continue"
   ]
  },
  {
   "cell_type": "markdown",
   "metadata": {},
   "source": [
    "### (4) 크롤링 완료 후 데이터가 잘 수집되었는지 확인"
   ]
  },
  {
   "cell_type": "code",
   "execution_count": 112,
   "metadata": {
    "scrolled": true
   },
   "outputs": [
    {
     "data": {
      "text/plain": [
       "6219"
      ]
     },
     "execution_count": 112,
     "metadata": {},
     "output_type": "execute_result"
    }
   ],
   "source": [
    "len(arr)"
   ]
  },
  {
   "cell_type": "code",
   "execution_count": 9,
   "metadata": {
    "scrolled": true
   },
   "outputs": [
    {
     "data": {
      "text/html": [
       "<div>\n",
       "<style scoped>\n",
       "    .dataframe tbody tr th:only-of-type {\n",
       "        vertical-align: middle;\n",
       "    }\n",
       "\n",
       "    .dataframe tbody tr th {\n",
       "        vertical-align: top;\n",
       "    }\n",
       "\n",
       "    .dataframe thead th {\n",
       "        text-align: right;\n",
       "    }\n",
       "</style>\n",
       "<table border=\"1\" class=\"dataframe\">\n",
       "  <thead>\n",
       "    <tr style=\"text-align: right;\">\n",
       "      <th></th>\n",
       "      <th>Location</th>\n",
       "      <th>Datetime</th>\n",
       "      <th>Tags</th>\n",
       "      <th>Like_Count</th>\n",
       "      <th>User_Name</th>\n",
       "    </tr>\n",
       "  </thead>\n",
       "  <tbody>\n",
       "    <tr>\n",
       "      <th>0</th>\n",
       "      <td>향리단커피</td>\n",
       "      <td>2019년 12월 22일</td>\n",
       "      <td>[#향리단스콘, #향남맛집, #스콘, #스콘맛집, #화성카페, #향남카페, #수원카...</td>\n",
       "      <td>48</td>\n",
       "      <td>hrdcoffee</td>\n",
       "    </tr>\n",
       "    <tr>\n",
       "      <th>1</th>\n",
       "      <td>Changwon</td>\n",
       "      <td>2019년 12월 30일</td>\n",
       "      <td>[]</td>\n",
       "      <td>11</td>\n",
       "      <td>staymood_candle</td>\n",
       "    </tr>\n",
       "    <tr>\n",
       "      <th>2</th>\n",
       "      <td>The Cheesecake Factory</td>\n",
       "      <td>2019년 12월 17일</td>\n",
       "      <td>[#대기20분, #줄줄이소세지, #하와이, #하와이신혼여행, #하와이맛집, #치즈케...</td>\n",
       "      <td>35</td>\n",
       "      <td>_dbddbd_</td>\n",
       "    </tr>\n",
       "    <tr>\n",
       "      <th>3</th>\n",
       "      <td>인사이드커피-Insidecoffee</td>\n",
       "      <td>2019년 12월 17일</td>\n",
       "      <td>[#코흘리게, #못생긴, #나의중학생시절, #기억하는사람, #16년지기, #고니, ...</td>\n",
       "      <td>38</td>\n",
       "      <td>jojosuhyun</td>\n",
       "    </tr>\n",
       "    <tr>\n",
       "      <th>4</th>\n",
       "      <td>Seoul, South Korea</td>\n",
       "      <td>2019년 12월 30일</td>\n",
       "      <td>[#월요일, #모닝커피, #커피빈, #치즈케이크, #셋이아닌둘이서, #커피스타그램,...</td>\n",
       "      <td>21</td>\n",
       "      <td>eunyoung3280</td>\n",
       "    </tr>\n",
       "    <tr>\n",
       "      <th>...</th>\n",
       "      <td>...</td>\n",
       "      <td>...</td>\n",
       "      <td>...</td>\n",
       "      <td>...</td>\n",
       "      <td>...</td>\n",
       "    </tr>\n",
       "    <tr>\n",
       "      <th>1098</th>\n",
       "      <td>은계지구</td>\n",
       "      <td>2019년 12월 27일</td>\n",
       "      <td>[#은계지구, #초밥, #허니콤보, #핫도그, #신전, #오돌뼈, #치즈케이크, #...</td>\n",
       "      <td>41</td>\n",
       "      <td>yang_hj2</td>\n",
       "    </tr>\n",
       "    <tr>\n",
       "      <th>1099</th>\n",
       "      <td>얼스어스</td>\n",
       "      <td>2019년 12월 18일</td>\n",
       "      <td>[#얼스어스]</td>\n",
       "      <td>21</td>\n",
       "      <td>juny_hoy</td>\n",
       "    </tr>\n",
       "    <tr>\n",
       "      <th>1100</th>\n",
       "      <td>스윗레시피 Sweet Recipe</td>\n",
       "      <td>2019년 12월 14일</td>\n",
       "      <td>[#스윗레시피]</td>\n",
       "      <td>148</td>\n",
       "      <td>sweet_0310</td>\n",
       "    </tr>\n",
       "    <tr>\n",
       "      <th>1101</th>\n",
       "      <td>하우다 과자점</td>\n",
       "      <td>2019년 12월 25일</td>\n",
       "      <td>[]</td>\n",
       "      <td>25</td>\n",
       "      <td>hauda_jeju</td>\n",
       "    </tr>\n",
       "    <tr>\n",
       "      <th>1102</th>\n",
       "      <td>동대문디자인플라자 DDP</td>\n",
       "      <td>2019년 12월 27일</td>\n",
       "      <td>[]</td>\n",
       "      <td>14</td>\n",
       "      <td>cafe_apotik</td>\n",
       "    </tr>\n",
       "  </tbody>\n",
       "</table>\n",
       "<p>1103 rows × 5 columns</p>\n",
       "</div>"
      ],
      "text/plain": [
       "                    Location       Datetime  \\\n",
       "0                      향리단커피  2019년 12월 22일   \n",
       "1                   Changwon  2019년 12월 30일   \n",
       "2     The Cheesecake Factory  2019년 12월 17일   \n",
       "3        인사이드커피-Insidecoffee  2019년 12월 17일   \n",
       "4         Seoul, South Korea  2019년 12월 30일   \n",
       "...                      ...            ...   \n",
       "1098                    은계지구  2019년 12월 27일   \n",
       "1099                    얼스어스  2019년 12월 18일   \n",
       "1100      스윗레시피 Sweet Recipe  2019년 12월 14일   \n",
       "1101                 하우다 과자점  2019년 12월 25일   \n",
       "1102           동대문디자인플라자 DDP  2019년 12월 27일   \n",
       "\n",
       "                                                   Tags Like_Count  \\\n",
       "0     [#향리단스콘, #향남맛집, #스콘, #스콘맛집, #화성카페, #향남카페, #수원카...         48   \n",
       "1                                                    []         11   \n",
       "2     [#대기20분, #줄줄이소세지, #하와이, #하와이신혼여행, #하와이맛집, #치즈케...         35   \n",
       "3     [#코흘리게, #못생긴, #나의중학생시절, #기억하는사람, #16년지기, #고니, ...         38   \n",
       "4     [#월요일, #모닝커피, #커피빈, #치즈케이크, #셋이아닌둘이서, #커피스타그램,...         21   \n",
       "...                                                 ...        ...   \n",
       "1098  [#은계지구, #초밥, #허니콤보, #핫도그, #신전, #오돌뼈, #치즈케이크, #...         41   \n",
       "1099                                            [#얼스어스]         21   \n",
       "1100                                           [#스윗레시피]        148   \n",
       "1101                                                 []         25   \n",
       "1102                                                 []         14   \n",
       "\n",
       "            User_Name  \n",
       "0           hrdcoffee  \n",
       "1     staymood_candle  \n",
       "2            _dbddbd_  \n",
       "3          jojosuhyun  \n",
       "4        eunyoung3280  \n",
       "...               ...  \n",
       "1098         yang_hj2  \n",
       "1099         juny_hoy  \n",
       "1100       sweet_0310  \n",
       "1101       hauda_jeju  \n",
       "1102      cafe_apotik  \n",
       "\n",
       "[1103 rows x 5 columns]"
      ]
     },
     "execution_count": 9,
     "metadata": {},
     "output_type": "execute_result"
    }
   ],
   "source": [
    "insta_df"
   ]
  },
  {
   "cell_type": "markdown",
   "metadata": {},
   "source": [
    "### (5) 크롤링 결과 수집된 데이터를 csv로 저장\n",
    "euc-kr로 저장하면 인코딩 문제로 오류나서 utf-8로 저장함"
   ]
  },
  {
   "cell_type": "code",
   "execution_count": 13,
   "metadata": {},
   "outputs": [
    {
     "ename": "UnicodeEncodeError",
     "evalue": "'euc_kr' codec can't encode character '\\u0e1e' in position 14: illegal multibyte sequence",
     "output_type": "error",
     "traceback": [
      "\u001b[1;31m---------------------------------------------------------------------------\u001b[0m",
      "\u001b[1;31mUnicodeEncodeError\u001b[0m                        Traceback (most recent call last)",
      "\u001b[1;32m<ipython-input-13-56f20c2a943b>\u001b[0m in \u001b[0;36m<module>\u001b[1;34m\u001b[0m\n\u001b[1;32m----> 1\u001b[1;33m \u001b[0minsta_df\u001b[0m\u001b[1;33m.\u001b[0m\u001b[0mto_csv\u001b[0m\u001b[1;33m(\u001b[0m\u001b[1;34m'_test111_'\u001b[0m\u001b[1;33m+\u001b[0m \u001b[1;34m'.csv'\u001b[0m\u001b[1;33m,\u001b[0m\u001b[0mmode\u001b[0m\u001b[1;33m=\u001b[0m\u001b[1;34m'w'\u001b[0m\u001b[1;33m,\u001b[0m \u001b[0mencoding\u001b[0m\u001b[1;33m=\u001b[0m\u001b[1;34m'euc-kr'\u001b[0m\u001b[1;33m)\u001b[0m\u001b[1;33m\u001b[0m\u001b[1;33m\u001b[0m\u001b[0m\n\u001b[0m",
      "\u001b[1;32m~\\Anaconda3\\envs\\test\\lib\\site-packages\\pandas\\core\\generic.py\u001b[0m in \u001b[0;36mto_csv\u001b[1;34m(self, path_or_buf, sep, na_rep, float_format, columns, header, index, index_label, mode, encoding, compression, quoting, quotechar, line_terminator, chunksize, date_format, doublequote, escapechar, decimal)\u001b[0m\n\u001b[0;32m   3226\u001b[0m             \u001b[0mdecimal\u001b[0m\u001b[1;33m=\u001b[0m\u001b[0mdecimal\u001b[0m\u001b[1;33m,\u001b[0m\u001b[1;33m\u001b[0m\u001b[1;33m\u001b[0m\u001b[0m\n\u001b[0;32m   3227\u001b[0m         )\n\u001b[1;32m-> 3228\u001b[1;33m         \u001b[0mformatter\u001b[0m\u001b[1;33m.\u001b[0m\u001b[0msave\u001b[0m\u001b[1;33m(\u001b[0m\u001b[1;33m)\u001b[0m\u001b[1;33m\u001b[0m\u001b[1;33m\u001b[0m\u001b[0m\n\u001b[0m\u001b[0;32m   3229\u001b[0m \u001b[1;33m\u001b[0m\u001b[0m\n\u001b[0;32m   3230\u001b[0m         \u001b[1;32mif\u001b[0m \u001b[0mpath_or_buf\u001b[0m \u001b[1;32mis\u001b[0m \u001b[1;32mNone\u001b[0m\u001b[1;33m:\u001b[0m\u001b[1;33m\u001b[0m\u001b[1;33m\u001b[0m\u001b[0m\n",
      "\u001b[1;32m~\\Anaconda3\\envs\\test\\lib\\site-packages\\pandas\\io\\formats\\csvs.py\u001b[0m in \u001b[0;36msave\u001b[1;34m(self)\u001b[0m\n\u001b[0;32m    200\u001b[0m                 \u001b[0mself\u001b[0m\u001b[1;33m.\u001b[0m\u001b[0mwriter\u001b[0m \u001b[1;33m=\u001b[0m \u001b[0mUnicodeWriter\u001b[0m\u001b[1;33m(\u001b[0m\u001b[0mf\u001b[0m\u001b[1;33m,\u001b[0m \u001b[1;33m**\u001b[0m\u001b[0mwriter_kwargs\u001b[0m\u001b[1;33m)\u001b[0m\u001b[1;33m\u001b[0m\u001b[1;33m\u001b[0m\u001b[0m\n\u001b[0;32m    201\u001b[0m \u001b[1;33m\u001b[0m\u001b[0m\n\u001b[1;32m--> 202\u001b[1;33m             \u001b[0mself\u001b[0m\u001b[1;33m.\u001b[0m\u001b[0m_save\u001b[0m\u001b[1;33m(\u001b[0m\u001b[1;33m)\u001b[0m\u001b[1;33m\u001b[0m\u001b[1;33m\u001b[0m\u001b[0m\n\u001b[0m\u001b[0;32m    203\u001b[0m \u001b[1;33m\u001b[0m\u001b[0m\n\u001b[0;32m    204\u001b[0m         \u001b[1;32mfinally\u001b[0m\u001b[1;33m:\u001b[0m\u001b[1;33m\u001b[0m\u001b[1;33m\u001b[0m\u001b[0m\n",
      "\u001b[1;32m~\\Anaconda3\\envs\\test\\lib\\site-packages\\pandas\\io\\formats\\csvs.py\u001b[0m in \u001b[0;36m_save\u001b[1;34m(self)\u001b[0m\n\u001b[0;32m    322\u001b[0m                 \u001b[1;32mbreak\u001b[0m\u001b[1;33m\u001b[0m\u001b[1;33m\u001b[0m\u001b[0m\n\u001b[0;32m    323\u001b[0m \u001b[1;33m\u001b[0m\u001b[0m\n\u001b[1;32m--> 324\u001b[1;33m             \u001b[0mself\u001b[0m\u001b[1;33m.\u001b[0m\u001b[0m_save_chunk\u001b[0m\u001b[1;33m(\u001b[0m\u001b[0mstart_i\u001b[0m\u001b[1;33m,\u001b[0m \u001b[0mend_i\u001b[0m\u001b[1;33m)\u001b[0m\u001b[1;33m\u001b[0m\u001b[1;33m\u001b[0m\u001b[0m\n\u001b[0m\u001b[0;32m    325\u001b[0m \u001b[1;33m\u001b[0m\u001b[0m\n\u001b[0;32m    326\u001b[0m     \u001b[1;32mdef\u001b[0m \u001b[0m_save_chunk\u001b[0m\u001b[1;33m(\u001b[0m\u001b[0mself\u001b[0m\u001b[1;33m,\u001b[0m \u001b[0mstart_i\u001b[0m\u001b[1;33m,\u001b[0m \u001b[0mend_i\u001b[0m\u001b[1;33m)\u001b[0m\u001b[1;33m:\u001b[0m\u001b[1;33m\u001b[0m\u001b[1;33m\u001b[0m\u001b[0m\n",
      "\u001b[1;32m~\\Anaconda3\\envs\\test\\lib\\site-packages\\pandas\\io\\formats\\csvs.py\u001b[0m in \u001b[0;36m_save_chunk\u001b[1;34m(self, start_i, end_i)\u001b[0m\n\u001b[0;32m    354\u001b[0m         )\n\u001b[0;32m    355\u001b[0m \u001b[1;33m\u001b[0m\u001b[0m\n\u001b[1;32m--> 356\u001b[1;33m         \u001b[0mlibwriters\u001b[0m\u001b[1;33m.\u001b[0m\u001b[0mwrite_csv_rows\u001b[0m\u001b[1;33m(\u001b[0m\u001b[0mself\u001b[0m\u001b[1;33m.\u001b[0m\u001b[0mdata\u001b[0m\u001b[1;33m,\u001b[0m \u001b[0mix\u001b[0m\u001b[1;33m,\u001b[0m \u001b[0mself\u001b[0m\u001b[1;33m.\u001b[0m\u001b[0mnlevels\u001b[0m\u001b[1;33m,\u001b[0m \u001b[0mself\u001b[0m\u001b[1;33m.\u001b[0m\u001b[0mcols\u001b[0m\u001b[1;33m,\u001b[0m \u001b[0mself\u001b[0m\u001b[1;33m.\u001b[0m\u001b[0mwriter\u001b[0m\u001b[1;33m)\u001b[0m\u001b[1;33m\u001b[0m\u001b[1;33m\u001b[0m\u001b[0m\n\u001b[0m",
      "\u001b[1;32mpandas/_libs/writers.pyx\u001b[0m in \u001b[0;36mpandas._libs.writers.write_csv_rows\u001b[1;34m()\u001b[0m\n",
      "\u001b[1;31mUnicodeEncodeError\u001b[0m: 'euc_kr' codec can't encode character '\\u0e1e' in position 14: illegal multibyte sequence"
     ]
    }
   ],
   "source": [
    "insta_df.to_csv(keyword + '_' + str(num_of_pages) + '.csv',mode='w', encoding='euc-kr')"
   ]
  },
  {
   "cell_type": "code",
   "execution_count": 11,
   "metadata": {},
   "outputs": [],
   "source": [
    "insta_df.to_csv(keyword + '_' + str(num_of_pages) + '.csv',mode='w', encoding='UTF-8')"
   ]
  },
  {
   "cell_type": "markdown",
   "metadata": {},
   "source": [
    "## 3. 데이터 처리"
   ]
  },
  {
   "cell_type": "markdown",
   "metadata": {},
   "source": [
    "### (1) (참고) 시연을 위해 크롤링으로 얻은 raw data 로드"
   ]
  },
  {
   "cell_type": "code",
   "execution_count": 10,
   "metadata": {},
   "outputs": [
    {
     "data": {
      "text/html": [
       "<div>\n",
       "<style scoped>\n",
       "    .dataframe tbody tr th:only-of-type {\n",
       "        vertical-align: middle;\n",
       "    }\n",
       "\n",
       "    .dataframe tbody tr th {\n",
       "        vertical-align: top;\n",
       "    }\n",
       "\n",
       "    .dataframe thead th {\n",
       "        text-align: right;\n",
       "    }\n",
       "</style>\n",
       "<table border=\"1\" class=\"dataframe\">\n",
       "  <thead>\n",
       "    <tr style=\"text-align: right;\">\n",
       "      <th></th>\n",
       "      <th>Location</th>\n",
       "      <th>Datetime</th>\n",
       "      <th>Tags</th>\n",
       "      <th>Like_Count</th>\n",
       "      <th>User_Name</th>\n",
       "      <th>url</th>\n",
       "    </tr>\n",
       "  </thead>\n",
       "  <tbody>\n",
       "    <tr>\n",
       "      <th>0</th>\n",
       "      <td>향리단커피</td>\n",
       "      <td>2019년 12월 22일</td>\n",
       "      <td>['#향리단스콘', '#향남맛집', '#스콘', '#스콘맛집', '#화성카페', '...</td>\n",
       "      <td>48</td>\n",
       "      <td>hrdcoffee</td>\n",
       "      <td>https://www.instagram.com/p/B6XfP5YgO2g/</td>\n",
       "    </tr>\n",
       "    <tr>\n",
       "      <th>1</th>\n",
       "      <td>Changwon</td>\n",
       "      <td>2019년 12월 30일</td>\n",
       "      <td>[]</td>\n",
       "      <td>11</td>\n",
       "      <td>staymood_candle</td>\n",
       "      <td>https://www.instagram.com/p/B6n6jBfFVNK/</td>\n",
       "    </tr>\n",
       "    <tr>\n",
       "      <th>2</th>\n",
       "      <td>The Cheesecake Factory</td>\n",
       "      <td>2019년 12월 17일</td>\n",
       "      <td>['#대기20분', '#줄줄이소세지', '#하와이', '#하와이신혼여행', '#하와...</td>\n",
       "      <td>35</td>\n",
       "      <td>_dbddbd_</td>\n",
       "      <td>https://www.instagram.com/p/B6po6sxghvm/</td>\n",
       "    </tr>\n",
       "    <tr>\n",
       "      <th>3</th>\n",
       "      <td>인사이드커피-Insidecoffee</td>\n",
       "      <td>2019년 12월 17일</td>\n",
       "      <td>['#코흘리게', '#못생긴', '#나의중학생시절', '#기억하는사람', '#16년...</td>\n",
       "      <td>38</td>\n",
       "      <td>jojosuhyun</td>\n",
       "      <td>https://www.instagram.com/p/B6qIMZdprLK/</td>\n",
       "    </tr>\n",
       "    <tr>\n",
       "      <th>4</th>\n",
       "      <td>Seoul, South Korea</td>\n",
       "      <td>2019년 12월 30일</td>\n",
       "      <td>['#월요일', '#모닝커피', '#커피빈', '#치즈케이크', '#셋이아닌둘이서'...</td>\n",
       "      <td>21</td>\n",
       "      <td>eunyoung3280</td>\n",
       "      <td>https://www.instagram.com/p/B6pOCC8jNaf/</td>\n",
       "    </tr>\n",
       "    <tr>\n",
       "      <th>...</th>\n",
       "      <td>...</td>\n",
       "      <td>...</td>\n",
       "      <td>...</td>\n",
       "      <td>...</td>\n",
       "      <td>...</td>\n",
       "      <td>...</td>\n",
       "    </tr>\n",
       "    <tr>\n",
       "      <th>1098</th>\n",
       "      <td>은계지구</td>\n",
       "      <td>2019년 12월 27일</td>\n",
       "      <td>['#은계지구', '#초밥', '#허니콤보', '#핫도그', '#신전', '#오돌뼈...</td>\n",
       "      <td>41</td>\n",
       "      <td>yang_hj2</td>\n",
       "      <td>https://www.instagram.com/p/B6hlQHuJd-c/</td>\n",
       "    </tr>\n",
       "    <tr>\n",
       "      <th>1099</th>\n",
       "      <td>얼스어스</td>\n",
       "      <td>2019년 12월 18일</td>\n",
       "      <td>['#얼스어스']</td>\n",
       "      <td>21</td>\n",
       "      <td>juny_hoy</td>\n",
       "      <td>https://www.instagram.com/p/B6KjLwjlwss/</td>\n",
       "    </tr>\n",
       "    <tr>\n",
       "      <th>1100</th>\n",
       "      <td>스윗레시피 Sweet Recipe</td>\n",
       "      <td>2019년 12월 14일</td>\n",
       "      <td>['#스윗레시피']</td>\n",
       "      <td>148</td>\n",
       "      <td>sweet_0310</td>\n",
       "      <td>https://www.instagram.com/p/B6Igd7AJbZw/</td>\n",
       "    </tr>\n",
       "    <tr>\n",
       "      <th>1101</th>\n",
       "      <td>하우다 과자점</td>\n",
       "      <td>2019년 12월 25일</td>\n",
       "      <td>[]</td>\n",
       "      <td>25</td>\n",
       "      <td>hauda_jeju</td>\n",
       "      <td>https://www.instagram.com/p/B6aBT51nBFW/</td>\n",
       "    </tr>\n",
       "    <tr>\n",
       "      <th>1102</th>\n",
       "      <td>동대문디자인플라자 DDP</td>\n",
       "      <td>2019년 12월 27일</td>\n",
       "      <td>[]</td>\n",
       "      <td>14</td>\n",
       "      <td>cafe_apotik</td>\n",
       "      <td>https://www.instagram.com/p/B6bAlr8nrB-/</td>\n",
       "    </tr>\n",
       "  </tbody>\n",
       "</table>\n",
       "<p>1103 rows × 6 columns</p>\n",
       "</div>"
      ],
      "text/plain": [
       "                    Location       Datetime  \\\n",
       "0                      향리단커피  2019년 12월 22일   \n",
       "1                   Changwon  2019년 12월 30일   \n",
       "2     The Cheesecake Factory  2019년 12월 17일   \n",
       "3        인사이드커피-Insidecoffee  2019년 12월 17일   \n",
       "4         Seoul, South Korea  2019년 12월 30일   \n",
       "...                      ...            ...   \n",
       "1098                    은계지구  2019년 12월 27일   \n",
       "1099                    얼스어스  2019년 12월 18일   \n",
       "1100      스윗레시피 Sweet Recipe  2019년 12월 14일   \n",
       "1101                 하우다 과자점  2019년 12월 25일   \n",
       "1102           동대문디자인플라자 DDP  2019년 12월 27일   \n",
       "\n",
       "                                                   Tags  Like_Count  \\\n",
       "0     ['#향리단스콘', '#향남맛집', '#스콘', '#스콘맛집', '#화성카페', '...          48   \n",
       "1                                                    []          11   \n",
       "2     ['#대기20분', '#줄줄이소세지', '#하와이', '#하와이신혼여행', '#하와...          35   \n",
       "3     ['#코흘리게', '#못생긴', '#나의중학생시절', '#기억하는사람', '#16년...          38   \n",
       "4     ['#월요일', '#모닝커피', '#커피빈', '#치즈케이크', '#셋이아닌둘이서'...          21   \n",
       "...                                                 ...         ...   \n",
       "1098  ['#은계지구', '#초밥', '#허니콤보', '#핫도그', '#신전', '#오돌뼈...          41   \n",
       "1099                                          ['#얼스어스']          21   \n",
       "1100                                         ['#스윗레시피']         148   \n",
       "1101                                                 []          25   \n",
       "1102                                                 []          14   \n",
       "\n",
       "            User_Name                                       url  \n",
       "0           hrdcoffee  https://www.instagram.com/p/B6XfP5YgO2g/  \n",
       "1     staymood_candle  https://www.instagram.com/p/B6n6jBfFVNK/  \n",
       "2            _dbddbd_  https://www.instagram.com/p/B6po6sxghvm/  \n",
       "3          jojosuhyun  https://www.instagram.com/p/B6qIMZdprLK/  \n",
       "4        eunyoung3280  https://www.instagram.com/p/B6pOCC8jNaf/  \n",
       "...               ...                                       ...  \n",
       "1098         yang_hj2  https://www.instagram.com/p/B6hlQHuJd-c/  \n",
       "1099         juny_hoy  https://www.instagram.com/p/B6KjLwjlwss/  \n",
       "1100       sweet_0310  https://www.instagram.com/p/B6Igd7AJbZw/  \n",
       "1101       hauda_jeju  https://www.instagram.com/p/B6aBT51nBFW/  \n",
       "1102      cafe_apotik  https://www.instagram.com/p/B6bAlr8nrB-/  \n",
       "\n",
       "[1103 rows x 6 columns]"
      ]
     },
     "execution_count": 10,
     "metadata": {},
     "output_type": "execute_result"
    }
   ],
   "source": [
    "insta_df = pd.read_csv('rawdata.csv', index_col=0, encoding='UTF-8')\n",
    "insta_df"
   ]
  },
  {
   "cell_type": "markdown",
   "metadata": {},
   "source": [
    "### (((((((((((((((참고) 빈도분석"
   ]
  },
  {
   "cell_type": "code",
   "execution_count": 29,
   "metadata": {},
   "outputs": [
    {
     "data": {
      "text/plain": [
       "[(\"'\", 30066),\n",
       " ('#', 15033),\n",
       " (',', 14075),\n",
       " (' ', 14075),\n",
       " ('카', 2942),\n",
       " ('이', 2714),\n",
       " ('크', 2436),\n",
       " ('페', 2385),\n",
       " ('e', 2063),\n",
       " ('케', 1945),\n",
       " ('스', 1887),\n",
       " ('a', 1459),\n",
       " ('치', 1373),\n",
       " ('즈', 1353),\n",
       " ('o', 1108),\n",
       " ('[', 1103),\n",
       " (']', 1103),\n",
       " ('리', 1056),\n",
       " ('c', 1028),\n",
       " ('맛', 922),\n",
       " ('마', 901),\n",
       " ('트', 857),\n",
       " ('f', 834),\n",
       " ('s', 812),\n",
       " ('집', 808),\n",
       " ('r', 742),\n",
       " ('동', 720),\n",
       " ('t', 675),\n",
       " ('타', 627),\n",
       " ('그', 613),\n",
       " ('l', 612),\n",
       " ('i', 597),\n",
       " ('라', 589),\n",
       " ('아', 541),\n",
       " ('디', 524),\n",
       " ('일', 514),\n",
       " ('램', 503),\n",
       " ('산', 476),\n",
       " ('피', 475),\n",
       " ('저', 460),\n",
       " ('n', 458),\n",
       " ('주', 454),\n",
       " ('기', 448),\n",
       " ('대', 447),\n",
       " ('커', 444),\n",
       " ('롱', 444),\n",
       " ('d', 419),\n",
       " ('수', 413),\n",
       " ('k', 412),\n",
       " ('h', 401)]"
      ]
     },
     "execution_count": 29,
     "metadata": {},
     "output_type": "execute_result"
    }
   ],
   "source": [
    "from collections import Counter\n",
    "\n",
    "insta_str = []\n",
    "for tags in insta_df['Tags']:\n",
    "    insta_str.extend(tags)\n",
    "    \n",
    "c = Counter(insta_str)\n",
    "\n",
    "\n",
    "\n",
    "df2 = pd.DataFrame(columns = {'word', 'count'})\n",
    "for word in c:\n",
    "    df2 = df2.append({'word':word, 'count':c[word]}, ignore_index = True)\n",
    "\n",
    "c.most_common(50)\n",
    "#결과 저장\n",
    "#df2.to_csv('test_' + 'freq' + '.csv',mode='w', encoding='UTF-8')"
   ]
  },
  {
   "cell_type": "markdown",
   "metadata": {},
   "source": [
    "### (2) 지도 API를 이용하여 위치정보 텍스트를 위도, 경도로 변환"
   ]
  },
  {
   "cell_type": "code",
   "execution_count": null,
   "metadata": {},
   "outputs": [],
   "source": []
  }
 ],
 "metadata": {
  "kernelspec": {
   "display_name": "Python 3",
   "language": "python",
   "name": "python3"
  },
  "language_info": {
   "codemirror_mode": {
    "name": "ipython",
    "version": 3
   },
   "file_extension": ".py",
   "mimetype": "text/x-python",
   "name": "python",
   "nbconvert_exporter": "python",
   "pygments_lexer": "ipython3",
   "version": "3.6.9"
  }
 },
 "nbformat": 4,
 "nbformat_minor": 2
}
