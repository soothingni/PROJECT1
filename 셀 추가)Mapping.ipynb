{
 "cells": [
  {
   "cell_type": "code",
   "execution_count": 171,
   "metadata": {},
   "outputs": [],
   "source": [
    "#클러스터 마커(최종지도!!!!!)\n",
    "cheesecake_map = folium.Map(location=[37.514322572335935, 127.06283102249932],zoom_start=8)\n",
    "\n",
    "from folium.plugins import MarkerCluster\n",
    "\n",
    "mc = MarkerCluster()\n",
    "#creating a Marker for each point in df_sample. Each point will get a popup with their zip\n",
    "for i in range(len(total_df)):\n",
    "    x = total_df['x'][i]\n",
    "    y = total_df['y'][i]\n",
    "    mc.add_child(folium.Marker(location=[y, x], popup = total_df['addr'][i]))\n",
    "\n",
    "cheesecake_map.add_child(mc)\n",
    "cheesecake_map.save('cheesecake_cluster.html')"
   ]
  }
 ],
 "metadata": {
  "kernelspec": {
   "display_name": "Python 3",
   "language": "python",
   "name": "python3"
  },
  "language_info": {
   "codemirror_mode": {
    "name": "ipython",
    "version": 3
   },
   "file_extension": ".py",
   "mimetype": "text/x-python",
   "name": "python",
   "nbconvert_exporter": "python",
   "pygments_lexer": "ipython3",
   "version": "3.7.4"
  }
 },
 "nbformat": 4,
 "nbformat_minor": 2
}
